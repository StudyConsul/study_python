{
 "cells": [
  {
   "cell_type": "markdown",
   "metadata": {},
   "source": [
    "# 第4回勉強会"
   ]
  },
  {
   "cell_type": "markdown",
   "metadata": {},
   "source": [
    "## リスト操作"
   ]
  },
  {
   "cell_type": "code",
   "execution_count": 1,
   "metadata": {},
   "outputs": [
    {
     "name": "stdout",
     "output_type": "stream",
     "text": [
      "['Groucho', 'Chico', 'Hargo', 'Zeppo']\n",
      "['Groucho', 'Chico', 'Hargo', 'Zeppo', 'Gummo', 'Karl']\n"
     ]
    }
   ],
   "source": [
    "# リストの要素を抽出して結合：list1.extend(list2)\n",
    "marxes = ['Groucho', 'Chico', 'Hargo', 'Zeppo']\n",
    "print (marxes)\n",
    "others = ['Gummo', 'Karl']\n",
    "marxes.extend(others)\n",
    "print(marxes)"
   ]
  },
  {
   "cell_type": "code",
   "execution_count": 2,
   "metadata": {},
   "outputs": [
    {
     "name": "stdout",
     "output_type": "stream",
     "text": [
      "['Groucho', 'Chico', 'Hargo', 'Zeppo']\n",
      "['Groucho', 'Chico', 'Hargo', 'Zeppo', 'Gummo', 'Karl']\n"
     ]
    }
   ],
   "source": [
    "# extendの別の書き方:.list1 += list2\n",
    "marxes = ['Groucho', 'Chico', 'Hargo', 'Zeppo']\n",
    "print (marxes)\n",
    "others = ['Gummo', 'Karl']\n",
    "marxes+=(others)\n",
    "print(marxes)"
   ]
  },
  {
   "cell_type": "code",
   "execution_count": 3,
   "metadata": {},
   "outputs": [
    {
     "name": "stdout",
     "output_type": "stream",
     "text": [
      "['Groucho', 'Chico', 'Hargo', 'Zeppo']\n",
      "['Groucho', 'Chico', 'Hargo', 'Zeppo', ['Gummo', 'Karl']]\n"
     ]
    }
   ],
   "source": [
    "# リストをリストのまま追加する。:list1.append(list2)\n",
    "marxes = ['Groucho', 'Chico', 'Hargo', 'Zeppo']\n",
    "print (marxes)\n",
    "others = ['Gummo', 'Karl']\n",
    "marxes.append(others)\n",
    "print(marxes)"
   ]
  },
  {
   "cell_type": "code",
   "execution_count": 6,
   "metadata": {},
   "outputs": [
    {
     "name": "stdout",
     "output_type": "stream",
     "text": [
      "remove実行後のmarxesリスト: ['Groucho', 'Hargo', 'Zeppo']\n"
     ]
    }
   ],
   "source": [
    "# リストから特定の要素を削除する： list1.remove(element1)\n",
    "marxes = ['Groucho', 'Chico', 'Hargo', 'Zeppo']\n",
    "marxes.remove ('Chico')\n",
    "print('remove実行後のmarxesリスト:', marxes)"
   ]
  },
  {
   "cell_type": "code",
   "execution_count": 8,
   "metadata": {},
   "outputs": [
    {
     "name": "stdout",
     "output_type": "stream",
     "text": [
      "['Groucho', 'Hargo', 'Zeppo']\n"
     ]
    }
   ],
   "source": [
    "#del: 要素がどこにあるか分からなくても削除できる。\n",
    "marxes = ['Groucho', 'Chico', 'Hargo', 'Zeppo']\n",
    "del marxes[1]\n",
    "print(marxes)"
   ]
  },
  {
   "cell_type": "code",
   "execution_count": 13,
   "metadata": {},
   "outputs": [
    {
     "name": "stdout",
     "output_type": "stream",
     "text": [
      "オリジナルのリスト： ['Groucho', 'Chico', 'Hargo', 'Zeppo']\n",
      "popで要素を抽出： Chico\n",
      "popすると要素が削除される: ['Groucho', 'Hargo', 'Zeppo']\n"
     ]
    }
   ],
   "source": [
    "#リストから要素を抽出する： list1.pop(offset)\n",
    "marxes = ['Groucho', 'Chico', 'Hargo', 'Zeppo']\n",
    "print('オリジナルのリスト：', marxes)\n",
    "print('popで要素を抽出：', marxes.pop(1))\n",
    "print('popすると要素が削除される:', marxes)"
   ]
  },
  {
   "cell_type": "code",
   "execution_count": 17,
   "metadata": {},
   "outputs": [
    {
     "name": "stdout",
     "output_type": "stream",
     "text": [
      "オリジナルのリスト： ['Groucho', 'Chico', 'Hargo', 'Zeppo']\n",
      "Hargoの数： 1\n",
      "オリジナルのリスト： ['cheeseburger', 'cheeseburger', 'cheeseburger']\n",
      "cheeseburgerの数： 3\n"
     ]
    }
   ],
   "source": [
    "#リストの要素を数える：list1.count(element)\n",
    "marxes = ['Groucho', 'Chico', 'Hargo', 'Zeppo']\n",
    "\n",
    "print('オリジナルのリスト：', marxes)\n",
    "print('Hargoの数：', marxes.count('Hargo'))\n",
    "\n",
    "snl_skit = ['cheeseburger', 'cheeseburger','cheeseburger']\n",
    "print('オリジナルのリスト：', snl_skit)\n",
    "print('cheeseburgerの数：', snl_skit.count('cheeseburger'))"
   ]
  },
  {
   "cell_type": "code",
   "execution_count": 7,
   "metadata": {},
   "outputs": [
    {
     "data": {
      "text/plain": [
       "'Groucho, Chico, Hargo, Zeppo'"
      ]
     },
     "execution_count": 7,
     "metadata": {},
     "output_type": "execute_result"
    }
   ],
   "source": [
    "#リストの要素を任意の文字列区切りで結合して文字列型を作る。：文字列.join（list1）\n",
    "marxes = ['Groucho', 'Chico', 'Hargo', 'Zeppo']\n",
    "', '.join(marxes)"
   ]
  },
  {
   "cell_type": "markdown",
   "metadata": {},
   "source": [
    "## 辞書"
   ]
  },
  {
   "cell_type": "code",
   "execution_count": 45,
   "metadata": {},
   "outputs": [
    {
     "name": "stdout",
     "output_type": "stream",
     "text": [
      "{'a': 'b', 'c': 'd', 'e': 'f'}\n"
     ]
    }
   ],
   "source": [
    "# タプルのリストを辞書化：dict()\n",
    "lol = [('a', 'b'), ('c', 'd'), ('e', 'f')]\n",
    "lol = dict(lol)\n",
    "print(lol)"
   ]
  },
  {
   "cell_type": "code",
   "execution_count": 46,
   "metadata": {},
   "outputs": [
    {
     "name": "stdout",
     "output_type": "stream",
     "text": [
      "{'a': 'b', 'c': 'd', 'e': 'f'}\n",
      "{}\n"
     ]
    }
   ],
   "source": [
    "# 辞書を空にする。：dict1.clear()\n",
    "print(lol)\n",
    "lol.clear()\n",
    "print(lol)"
   ]
  },
  {
   "cell_type": "code",
   "execution_count": 47,
   "metadata": {},
   "outputs": [
    {
     "name": "stdout",
     "output_type": "stream",
     "text": [
      "{'a': 'b', 'c': 'd', 'e': 'f'}\n",
      "{}\n"
     ]
    }
   ],
   "source": [
    "#clearの方法2\n",
    "lot1 = [('a', 'b'), ('c', 'd'), ('e', 'f')]\n",
    "lot1 = dict(lot1)\n",
    "print(lot1)\n",
    "lot1 = {}\n",
    "print(lot)"
   ]
  },
  {
   "cell_type": "markdown",
   "metadata": {},
   "source": [
    "## タプル\n",
    "・タプルとは、編集が不可能な定数リスト。\n",
    "\n",
    "・タプルの利点\n",
    "1. 書き換えられる危険がない\n",
    "1. 辞書のキーとして使える\n"
   ]
  },
  {
   "cell_type": "code",
   "execution_count": 22,
   "metadata": {},
   "outputs": [
    {
     "name": "stdout",
     "output_type": "stream",
     "text": [
      "()\n",
      "('first', 'second', 'third')\n"
     ]
    }
   ],
   "source": [
    "# タプルの宣言\n",
    "empty_tuple = ()\n",
    "print(empty_tuple)\n",
    "\n",
    "tuple1 = ('first', 'second', 'third')\n",
    "print(tuple1)"
   ]
  },
  {
   "cell_type": "code",
   "execution_count": 23,
   "metadata": {},
   "outputs": [],
   "source": [
    "# 変更するとエラーになる\n",
    "# one_tuple[0] = \"error\""
   ]
  },
  {
   "cell_type": "code",
   "execution_count": 20,
   "metadata": {},
   "outputs": [
    {
     "name": "stdout",
     "output_type": "stream",
     "text": [
      "('first', 'second', 'third', 'fourth', 'fifth', 'sixth')\n"
     ]
    }
   ],
   "source": [
    "# タプル同士の結合：tuple1 + tuple2\n",
    "# 要素の順番は保持される。\n",
    "tuple2 = ('first', 'second', 'third')\n",
    "tuple3 = ('fourth', 'fifth', 'sixth')\n",
    "tuple2 = tuple2 + tuple3\n",
    "print(tuple2)"
   ]
  },
  {
   "cell_type": "markdown",
   "metadata": {},
   "source": [
    "## 集合\n",
    "・集合とは、値が一意になるリスト。"
   ]
  },
  {
   "cell_type": "code",
   "execution_count": 35,
   "metadata": {},
   "outputs": [
    {
     "name": "stdout",
     "output_type": "stream",
     "text": [
      "set()\n",
      "{'t', 'e', 'r', 'l'}\n",
      "{'Dancer', 'Prancer', 'Dasher', 'Mason-Dixon'}\n",
      "{1, 2, 3, 4, 5}\n"
     ]
    }
   ],
   "source": [
    "# 集合の宣言\n",
    "empty_set = set()\n",
    "print(empty_set)\n",
    "\n",
    "# 文字列を集合に変換\n",
    "str_set = set('letter')\n",
    "print(str_set)\n",
    "\n",
    "# リストを集合に変換\n",
    "list_set = set(['Dasher', 'Dancer', 'Prancer', 'Mason-Dixon', 'Dasher'])\n",
    "print(list_set)\n",
    "\n",
    "# タプルを集合に変換\n",
    "tuple_set = set((1, 2, 3, 4, 5, 1, 2))\n",
    "print(tuple_set)\n",
    "\n",
    "# 辞書を集合に変換\n",
    "dic_set = set({1})"
   ]
  },
  {
   "cell_type": "code",
   "execution_count": 42,
   "metadata": {},
   "outputs": [
    {
     "name": "stdout",
     "output_type": "stream",
     "text": [
      "first\n",
      "second\n"
     ]
    }
   ],
   "source": [
    "# 値の有無テスト\n",
    "dic = {'first': {'vodka', 'vermouth'}, 'second': {'vodka', 'kahlua'}}\n",
    "\n",
    "for name, contents in dic.items():\n",
    "    if 'vodka' in contents:\n",
    "        print(name)"
   ]
  },
  {
   "cell_type": "code",
   "execution_count": 41,
   "metadata": {},
   "outputs": [
    {
     "name": "stdout",
     "output_type": "stream",
     "text": [
      "-------------------------------\n",
      "first\n"
     ]
    }
   ],
   "source": [
    "# 積集合\n",
    "print('-------------------------------')\n",
    "for name, contents in dic.items():\n",
    "    if contents & {'vermouth', 'orange juice'}:\n",
    "        print(name)"
   ]
  },
  {
   "cell_type": "code",
   "execution_count": 39,
   "metadata": {},
   "outputs": [
    {
     "name": "stdout",
     "output_type": "stream",
     "text": [
      "-------------------------------\n",
      "{2}\n",
      "{1, 2, 3}\n"
     ]
    }
   ],
   "source": [
    "# 和集合と積集合       \n",
    "print('-------------------------------')\n",
    "a = {1, 2}\n",
    "b = {2, 3}\n",
    "\n",
    "# 積集合\n",
    "print(a & b)\n",
    "\n",
    "# 和集合\n",
    "print(a | b)"
   ]
  }
 ],
 "metadata": {
  "kernelspec": {
   "display_name": "Python 3",
   "language": "python",
   "name": "python3"
  },
  "language_info": {
   "codemirror_mode": {
    "name": "ipython",
    "version": 3
   },
   "file_extension": ".py",
   "mimetype": "text/x-python",
   "name": "python",
   "nbconvert_exporter": "python",
   "pygments_lexer": "ipython3",
   "version": "3.6.4"
  }
 },
 "nbformat": 4,
 "nbformat_minor": 2
}
