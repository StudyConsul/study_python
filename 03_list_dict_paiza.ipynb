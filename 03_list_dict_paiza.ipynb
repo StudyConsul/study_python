{
 "cells": [
  {
   "cell_type": "markdown",
   "metadata": {},
   "source": [
    "# リスト"
   ]
  },
  {
   "cell_type": "markdown",
   "metadata": {},
   "source": [
    "## リストの宣言"
   ]
  },
  {
   "cell_type": "code",
   "execution_count": 66,
   "metadata": {
    "collapsed": false
   },
   "outputs": [
    {
     "name": "stdout",
     "output_type": "stream",
     "text": [
      "['戦士', '侍', '僧侶', '魔法使い']\n",
      "['ロングソード', 'ブレードソード', 'エクスカリバー']\n",
      "['勇者', '魔法使い', '戦士']\n"
     ]
    }
   ],
   "source": [
    "senshi = \"戦士\"\n",
    "samurai = \"侍\"\n",
    "souryo = \"僧侶\"\n",
    "mahou = \"魔法使い\"\n",
    "\n",
    "# リストの宣言\n",
    "players = [\"戦士\",\"侍\",\"僧侶\",\"魔法使い\"]\n",
    "print(players)\n",
    "items = [\"ロングソード\", \"ブレードソード\", \"エクスカリバー\"]\n",
    "print(items)\n",
    "\n",
    "# 変数を使用したリストの宣言\n",
    "player_1 = \"勇者\"\n",
    "player_2 = \"魔法使い\"\n",
    "player_3 = \"戦士\"\n",
    "players1 = [player_1, player_2, player_3]\n",
    "print(players1)\n"
   ]
  },
  {
   "cell_type": "markdown",
   "metadata": {},
   "source": [
    "## リスト要素の取り出し方"
   ]
  },
  {
   "cell_type": "code",
   "execution_count": 67,
   "metadata": {
    "collapsed": false
   },
   "outputs": [
    {
     "name": "stdout",
     "output_type": "stream",
     "text": [
      "勇者\n",
      "勇者\n",
      "侍\n",
      "['勇者', '戦士']\n",
      "['勇者', '戦士']\n",
      "['忍者', '魔法使い']\n",
      "['忍者', '魔法使い']\n",
      "6\n"
     ]
    }
   ],
   "source": [
    "\n",
    "index = [0,1,2,3,4]\n",
    "team = [\"勇者\", \"戦士\", \"侍\", \"忍者\", \"魔法使い\"]\n",
    "\n",
    "# 一番左の要素を取り出す\n",
    "print(team[0])\n",
    "\n",
    "# インデックスに変数を使用して要素を取り出す\n",
    "index_num = 0\n",
    "print(team[0])\n",
    "\n",
    "# 3番目の要素を取り出す\n",
    "print(team[2])\n",
    "\n",
    "# 要素[0]～要素[1]の要素を取り出す\n",
    "print(team[0:2])\n",
    "print(team[:2])\n",
    "\n",
    "# 要素[3]～要素[4]の要素を取り出す\n",
    "print(team[3:5])\n",
    "print(team[3:])\n",
    "\n",
    "weapon = [\"木の棒\", \"鉄の棒\", \"鉄の剣\", \"銅の剣\", \"石斧\", \"エクスカリバー\"]\n",
    "# 要素数を出力する\n",
    "print(len(weapon))"
   ]
  },
  {
   "cell_type": "markdown",
   "metadata": {},
   "source": [
    "## リスト要素の操作"
   ]
  },
  {
   "cell_type": "code",
   "execution_count": 1,
   "metadata": {
    "collapsed": false
   },
   "outputs": [
    {
     "name": "stdout",
     "output_type": "stream",
     "text": [
      "['木の棒', '鉄の棒', '鉄の剣', 'サビた剣', '石斧']\n",
      "['金の棒', '木の棒', '鉄の棒', '鉄の剣', 'サビた剣', '石斧']\n",
      "['金の棒', '木の棒', '鉄の棒', '鉄の剣', '勇者の剣', '石斧']\n",
      "['木の棒', '鉄の棒', '鉄の剣', '勇者の剣', '石斧']\n"
     ]
    }
   ],
   "source": [
    "weapon1 = [\"木の棒\", \"鉄の棒\", \"鉄の剣\", \"サビた剣\"]\n",
    "\n",
    "# 要素を追加する\n",
    "weapon1.append(\"石斧\")\n",
    "print(weapon1)\n",
    "# インデックスを指定して要素を追加する\n",
    "weapon1.insert(0, \"金の棒\")\n",
    "print(weapon1)\n",
    "\n",
    "# 要素を上書きする\n",
    "weapon1[4] = \"勇者の剣\"\n",
    "print(weapon1)\n",
    "\n",
    "# 要素の削除\n",
    "del weapon1[0]\n",
    "print(weapon1)"
   ]
  },
  {
   "cell_type": "markdown",
   "metadata": {},
   "source": [
    "## ループでリストの操作"
   ]
  },
  {
   "cell_type": "code",
   "execution_count": null,
   "metadata": {
    "collapsed": false
   },
   "outputs": [],
   "source": [
    "enemys = [\"スライム\", \"モンスター\", \"ゾンビ\", \"ドラゴン\", \"魔王\"]\n",
    "\n",
    "# 要素の合計を計算する\n",
    "numbers = [12, 34, 56, 78, 90]\n",
    "total = 0\n",
    "for num in numbers:\n",
    "    print(\"数字\" + str(num))\n",
    "    total += num\n",
    "    print(\"合計\" + str(total))\n",
    "print(total)\n",
    "\n",
    "# 文章をスペース区切りにし、\n",
    "sentence = \"One cold rainy day when my father was a little boy he met an old alley cat on his street\"\n",
    "print(len(sentence.split()))"
   ]
  },
  {
   "cell_type": "markdown",
   "metadata": {},
   "source": [
    "## データの分割"
   ]
  },
  {
   "cell_type": "code",
   "execution_count": null,
   "metadata": {
    "collapsed": false
   },
   "outputs": [],
   "source": [
    "# カンマ区切りデータを分割する\n",
    "team_str = \"勇者,戦士,忍者,魔法使い\"\n",
    "print(team_str)\n",
    "print(team_str.split(\",\"))\n",
    "\n",
    "# 文章をスペース区切りにし、\n",
    "sentence = \"One cold rainy day when my father was a little boy he met an old alley cat on his street\"\n",
    "print(len(sentence.split()))"
   ]
  },
  {
   "cell_type": "markdown",
   "metadata": {},
   "source": [
    "## じゃんけんプログラム"
   ]
  },
  {
   "cell_type": "code",
   "execution_count": 71,
   "metadata": {
    "collapsed": false
   },
   "outputs": [
    {
     "name": "stdout",
     "output_type": "stream",
     "text": [
      "グー,チョキ,パー\n",
      "['グー', 'チョキ', 'パー']\n",
      "パー\n"
     ]
    }
   ],
   "source": [
    "import random\n",
    "# 標準入力から1行取得\n",
    "line = input().rstrip()\n",
    "# カンマで分割して、リストに代入\n",
    "janken = line.split(\",\")\n",
    "# リストの要素数を変数に代入\n",
    "num = len(janken)\n",
    "# リストの中身を出力\n",
    "print(janken)\n",
    "# ランダムに選んだリストの要素を出力\n",
    "print(janken[random.randrange(num)])\n",
    "\n",
    "# グー,チョキ,パー"
   ]
  },
  {
   "cell_type": "markdown",
   "metadata": {},
   "source": [
    "## おみくじプログラム"
   ]
  },
  {
   "cell_type": "code",
   "execution_count": 33,
   "metadata": {
    "collapsed": false
   },
   "outputs": [
    {
     "name": "stdout",
     "output_type": "stream",
     "text": [
      "大吉,中吉,吉,凶\n",
      "['大吉', '中吉', '吉', '凶']\n",
      "吉\n"
     ]
    }
   ],
   "source": [
    "import random\n",
    "lines = input().rstrip()\n",
    "# カンマで分割して、リストに代入\n",
    "omikuji = lines.split(\",\")\n",
    "# リストを出力\n",
    "print(omikuji)\n",
    "# リストの要素数を変数に代入\n",
    "max_num = len(omikuji)\n",
    "# ランダムに選んだリストの要素を出力\n",
    "print(omikuji[random.randrange(max_num)])\n",
    "\n",
    "# 大吉,中吉,吉,凶"
   ]
  },
  {
   "cell_type": "markdown",
   "metadata": {},
   "source": [
    "# 辞書"
   ]
  },
  {
   "cell_type": "markdown",
   "metadata": {},
   "source": [
    "## 辞書の宣言"
   ]
  },
  {
   "cell_type": "code",
   "execution_count": null,
   "metadata": {
    "collapsed": false
   },
   "outputs": [],
   "source": [
    "# jisho = {Key, Value}\n",
    "\n",
    "# 辞書の宣言方法\n",
    "skills = {\"職業\": \"戦士\", \"体力\": 100, \"魔法力\": 200, \"ゴールド\": 380}\n",
    "print(skills)\n",
    "\n",
    "# 特定要素の出力\n",
    "print(skills[\"職業\"])\n",
    "print(skills.get(\"職業\"))\n",
    "\n",
    "print(skills[\"職種\"])\n",
    "# print(skills.get(\"職種\"))"
   ]
  },
  {
   "cell_type": "markdown",
   "metadata": {},
   "source": [
    "## 辞書の基本動作"
   ]
  },
  {
   "cell_type": "code",
   "execution_count": null,
   "metadata": {
    "collapsed": false
   },
   "outputs": [],
   "source": [
    "# 辞書の長さを出力する\n",
    "print(len(skills))\n",
    "\n",
    "list  []\n",
    "jisho {}\n",
    "\n",
    "# 辞書にデータを追加する\n",
    "skills.update({\"属性\": \"炎\"})\n",
    "print(skills)\n",
    "\n",
    "# 辞書の要素を更新する\n",
    "skills[\"職業\"] = \"魔法使い\"\n",
    "print(skills)\n",
    "\n",
    "# 辞書の削除\n",
    "skills = {\"職業\" : \"戦士\", \"体力\" : 100, \"魔法力\" : 200, \"ゴールド\" : 380}\n",
    "del skills[\"体力\"]\n",
    "\n",
    "skills.pop(\"魔法力\")\n",
    "print(skills)"
   ]
  },
  {
   "cell_type": "markdown",
   "metadata": {},
   "source": [
    "## 辞書をループで処理する"
   ]
  },
  {
   "cell_type": "code",
   "execution_count": 2,
   "metadata": {
    "collapsed": false
   },
   "outputs": [
    {
     "name": "stdout",
     "output_type": "stream",
     "text": [
      "200\n",
      "戦士\n",
      "100\n",
      "380\n",
      "200\n",
      "戦士\n",
      "100\n",
      "380\n",
      "魔法力は200です\n",
      "職業は戦士です\n",
      "体力は100です\n",
      "ゴールドは380です\n"
     ]
    }
   ],
   "source": [
    "skills1 = {\"職業\" : \"戦士\", \"体力\" : 100, \"魔法力\" : 200, \"ゴールド\" : 380}\n",
    "# 辞書のKeyでループ\n",
    "for key in skills1:\n",
    "    print(skills1[key])\n",
    "    \n",
    "# 辞書のValueでループ\n",
    "for value in skills1.values():\n",
    "    print(value)\n",
    "   \n",
    "# 辞書のKeyとValueをループで出力\n",
    "skills = {\"職業\" : \"戦士\", \"体力\" : 100, \"魔法力\" : 200, \"ゴールド\" : 380}\n",
    "for skill in skills:\n",
    "    print(skill + \"は\" + str(skills[skill]) + \"です\")\n",
    "    \n",
    "# ループで合計を計算しよう\n",
    "points = {\"国語\" : 70, \"算数\" : 35, \"英語\" : 52}\n",
    "sum = 0\n",
    "\n",
    "for point in points:\n",
    "    sum += points[point]\n",
    "print(int(sum))"
   ]
  },
  {
   "cell_type": "markdown",
   "metadata": {
    "collapsed": true
   },
   "source": [
    "## リストをソートする"
   ]
  },
  {
   "cell_type": "code",
   "execution_count": 6,
   "metadata": {
    "collapsed": false
   },
   "outputs": [
    {
     "name": "stdout",
     "output_type": "stream",
     "text": [
      "[288, 292, 300, 310, 322, 346]\n",
      "[346, 322, 310, 300, 292, 288]\n"
     ]
    }
   ],
   "source": [
    "apples = [310, 322, 292, 288, 300, 346]\n",
    "\n",
    "# 昇順ソート\n",
    "print(sorted(apples))\n",
    "\n",
    "# 降順ソート\n",
    "print(sorted(apples, reverse=True))\n",
    "\n",
    "words = [\"pumpkin\", \"orange\", \"apple\", \"carrot\", \"onion\"]\n",
    "print(sorted(words))"
   ]
  },
  {
   "cell_type": "markdown",
   "metadata": {},
   "source": [
    "## 辞書のソート"
   ]
  },
  {
   "cell_type": "code",
   "execution_count": 12,
   "metadata": {
    "collapsed": false
   },
   "outputs": [
    {
     "name": "stdout",
     "output_type": "stream",
     "text": [
      "[('あだち', 40), ('いいだ', 12), ('えんどう', 99)]\n",
      "[('いいだ', 12), ('あだち', 40), ('えんどう', 99)]\n"
     ]
    }
   ],
   "source": [
    "math = {\"いいだ\" : 12, \"えんどう\" : 99, \"あだち\" : 40}\n",
    "\n",
    "# keyでソート\n",
    "print(sorted(math.items(), key=lambda x: x[0]))\n",
    "\n",
    "# valueでソート\n",
    "print(sorted(math.items(), key=lambda x: x[1]))\n"
   ]
  },
  {
   "cell_type": "markdown",
   "metadata": {},
   "source": [
    "## PRGのアイテム一覧を再現"
   ]
  },
  {
   "cell_type": "code",
   "execution_count": 14,
   "metadata": {
    "collapsed": false
   },
   "outputs": [
    {
     "name": "stdout",
     "output_type": "stream",
     "text": [
      "<img src='http://paiza.jp/learning/images/sword.png'><br>\n",
      "<img src='http://paiza.jp/learning/images/shield.png'><br>\n",
      "<img src='http://paiza.jp/learning/images/potion.png'><br>\n",
      "<img src='http://paiza.jp/learning/images/crystal.png'><br>\n"
     ]
    }
   ],
   "source": [
    "# 画像URLのリスト\n",
    "items_img = {\n",
    "    \"剣\" : \"http://paiza.jp/learning/images/sword.png\",\n",
    "    \"盾\" : \"http://paiza.jp/learning/images/shield.png\",\n",
    "    \"回復薬\" : \"http://paiza.jp/learning/images/potion.png\",\n",
    "    \"クリスタル\" : \"http://paiza.jp/learning/images/crystal.png\"\n",
    "}\n",
    "# アイテムの並び順リスト\n",
    "items_order = [\"剣\", \"盾\", \"回復薬\", \"クリスタル\"]\n",
    "\n",
    "# ここから下を記述しよう\n",
    "for item in items_order:\n",
    "    print(\"<img src='\" + items_img[item] + \"'><br>\")"
   ]
  },
  {
   "cell_type": "code",
   "execution_count": null,
   "metadata": {
    "collapsed": false
   },
   "outputs": [],
   "source": [
    "# 画像用辞書\n",
    "items_img = {\n",
    "    \"剣\" : \"http://paiza.jp/learning/images/sword.png\",\n",
    "    \"盾\" : \"http://paiza.jp/learning/images/shield.png\",\n",
    "    \"回復薬\" : \"http://paiza.jp/learning/images/potion.png\",\n",
    "    \"クリスタル\" : \"http://paiza.jp/learning/images/crystal.png\"\n",
    "}\n",
    "\n",
    "# ここから下を記述しよう\n",
    "input_lines = int(input())\n",
    "\n",
    "for count in range(0, input_lines):\n",
    "    print(\"<img src='\" + items_img[input()] + \"'>\")\n",
    "\n",
    "# 6, 回復薬, 盾, クリスタル, クリスタル, 剣, 剣"
   ]
  },
  {
   "cell_type": "code",
   "execution_count": null,
   "metadata": {
    "collapsed": true
   },
   "outputs": [],
   "source": []
  }
 ],
 "metadata": {
  "kernelspec": {
   "display_name": "Python 3",
   "language": "python",
   "name": "python3"
  },
  "language_info": {
   "codemirror_mode": {
    "name": "ipython",
    "version": 3
   },
   "file_extension": ".py",
   "mimetype": "text/x-python",
   "name": "python",
   "nbconvert_exporter": "python",
   "pygments_lexer": "ipython3",
   "version": "3.5.1"
  }
 },
 "nbformat": 4,
 "nbformat_minor": 0
}
