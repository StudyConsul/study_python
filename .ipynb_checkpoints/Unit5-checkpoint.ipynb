{
 "cells": [
  {
   "cell_type": "markdown",
   "metadata": {},
   "source": [
    "# 第5回勉強会"
   ]
  },
  {
   "cell_type": "markdown",
   "metadata": {},
   "source": [
    "# 名前空間とスコープ"
   ]
  },
  {
   "cell_type": "code",
   "execution_count": 39,
   "metadata": {
    "collapsed": false
   },
   "outputs": [
    {
     "name": "stdout",
     "output_type": "stream",
     "text": [
      "at the top level: fruitbat\n",
      "inside print_global: fruitbat\n"
     ]
    }
   ],
   "source": [
    "# 名前空間とは、変数が所属している領域\n",
    "# スコープの順番：1.ローカル空間　2.ひとつ外側にある関数のローカル空間　3.グローバル空間（モジュール空間）　4.組み込み空間\n",
    "\n",
    "animal = 'fruitbat' #グローバル変数\n",
    "def print_global():\n",
    "    print('inside print_global:', animal)\n",
    "\n",
    "print('at the top level:', animal) \n",
    "print_global() #グローバル変数の値は、関数内から参照できる。"
   ]
  },
  {
   "cell_type": "code",
   "execution_count": 43,
   "metadata": {
    "collapsed": false
   },
   "outputs": [
    {
     "name": "stdout",
     "output_type": "stream",
     "text": [
      "fruitbat\n",
      "locals: {'animal': 'wombat'}\n"
     ]
    }
   ],
   "source": [
    "animal = 'fruitbat'\n",
    "def change_local():\n",
    "    animal = 'wombat'  #ローカル変数\n",
    "    print('locals:', locals()) # ローカル名前空間の内容を示す辞書を返す。\n",
    "print(animal)\n",
    "change_local()\n",
    "\n",
    "\"\"\" print('globals:', globals()) \"\"\"  #グローバル名前空間の内容を示す辞書を返す。"
   ]
  },
  {
   "cell_type": "markdown",
   "metadata": {},
   "source": [
    "# 反複処理"
   ]
  },
  {
   "cell_type": "code",
   "execution_count": 4,
   "metadata": {
    "collapsed": false
   },
   "outputs": [
    {
     "name": "stdout",
     "output_type": "stream",
     "text": [
      "1\n",
      "2\n",
      "1\n",
      "2\n"
     ]
    }
   ],
   "source": [
    "# break: 繰り返し処理を終了する\n",
    "\n",
    "## for文でbreak\n",
    "array = [1,2,3,4,5]\n",
    "for v in array:\n",
    "    if v == 3:\n",
    "        break\n",
    "    print(v)\n",
    "\n",
    "## while文でbreak\n",
    "val = 1\n",
    "while val < 10:\n",
    "    if val == 3:\n",
    "        break\n",
    "    print(val)\n",
    "    val += 1"
   ]
  },
  {
   "cell_type": "code",
   "execution_count": 6,
   "metadata": {
    "collapsed": false
   },
   "outputs": [
    {
     "name": "stdout",
     "output_type": "stream",
     "text": [
      "1\n",
      "2\n",
      "4\n",
      "5\n",
      "1\n",
      "2\n",
      "4\n",
      "5\n"
     ]
    }
   ],
   "source": [
    "# continue: 今回の繰り返しを終了し、次の繰り返し処理を始める\n",
    "\n",
    "## for文でcontinue\n",
    "array = [1,2,3,4,5]\n",
    "for v in array:\n",
    "    if v == 3:\n",
    "        continue\n",
    "    print(v)\n",
    "    \n",
    "## while文でcontinue\n",
    "val = 0\n",
    "while val < 5:\n",
    "    val += 1\n",
    "    if val == 3:\n",
    "        continue\n",
    "    print(val)"
   ]
  },
  {
   "cell_type": "markdown",
   "metadata": {},
   "source": [
    "# 内包表記"
   ]
  },
  {
   "cell_type": "code",
   "execution_count": 7,
   "metadata": {
    "collapsed": false
   },
   "outputs": [
    {
     "name": "stdout",
     "output_type": "stream",
     "text": [
      "[0, 1, 4, 9, 16, 25, 36, 49, 64, 81]\n",
      "[0, 1, 4, 9, 16, 25, 36, 49, 64, 81]\n"
     ]
    }
   ],
   "source": [
    "# for文で0から9の二乗のリストを作る\n",
    "def main():\n",
    "    l = []\n",
    "    for i in range(10):\n",
    "        l.append(i ** 2)\n",
    "    return l\n",
    "if __name__ == '__main__':\n",
    "    print(main())\n",
    "    \n",
    "# リスト内包表記\n",
    "def main():\n",
    "    return[i ** 2 for i in range(10)]  ## [リストの各要素になる値 for 変数 in ...]\n",
    "if __name__ == '__main__':\n",
    "    print(main())   "
   ]
  },
  {
   "cell_type": "code",
   "execution_count": 8,
   "metadata": {
    "collapsed": false
   },
   "outputs": [
    {
     "data": {
      "text/plain": [
       "{2: 4, 4: 16, 6: 36}"
      ]
     },
     "execution_count": 8,
     "metadata": {},
     "output_type": "execute_result"
    }
   ],
   "source": [
    "# 辞書包括表記\n",
    "{x: x**2 for x in (2, 4, 6)}"
   ]
  },
  {
   "cell_type": "markdown",
   "metadata": {},
   "source": [
    "# 関数"
   ]
  },
  {
   "cell_type": "code",
   "execution_count": 10,
   "metadata": {
    "collapsed": false
   },
   "outputs": [
    {
     "name": "stdout",
     "output_type": "stream",
     "text": [
      "538\n"
     ]
    }
   ],
   "source": [
    "# 関数は複数行のプログラムをまとめて実行できる構文である\n",
    "# print() も関数である。カッコの中に値を指定すると、画面に渡した値を文字列として表示する。\n",
    "\n",
    "numbers = [199, 288, 99, 538]\n",
    "max_number = max(numbers)\n",
    "print(max_number)"
   ]
  },
  {
   "cell_type": "code",
   "execution_count": 2,
   "metadata": {
    "collapsed": false
   },
   "outputs": [
    {
     "name": "stdout",
     "output_type": "stream",
     "text": [
      "Hello Someone\n"
     ]
    }
   ],
   "source": [
    "# 関数の定義  \n",
    "def greet(): \n",
    "    print('Hello Someone') #greet関数を定義\n",
    "greet() #関数名（）で呼び出す\n",
    "\n",
    "# def 関数名（）：\n",
    "#     関数を呼び出したときに実行される何らかの処理"
   ]
  },
  {
   "cell_type": "markdown",
   "metadata": {
    "collapsed": true
   },
   "source": [
    "# 例外処理"
   ]
  },
  {
   "cell_type": "code",
   "execution_count": 5,
   "metadata": {
    "collapsed": false
   },
   "outputs": [
    {
     "ename": "NameError",
     "evalue": "name 'b' is not defined",
     "output_type": "error",
     "traceback": [
      "\u001b[1;31m---------------------------------------------------------------------------\u001b[0m",
      "\u001b[1;31mNameError\u001b[0m                                 Traceback (most recent call last)",
      "\u001b[1;32m<ipython-input-5-cfc1300b4933>\u001b[0m in \u001b[0;36m<module>\u001b[1;34m()\u001b[0m\n\u001b[0;32m      2\u001b[0m \u001b[1;31m## NameError は定義されていない変数及び関数を使ったときに発生する例外である。\u001b[0m\u001b[1;33m\u001b[0m\u001b[1;33m\u001b[0m\u001b[0m\n\u001b[0;32m      3\u001b[0m \u001b[0ma\u001b[0m \u001b[1;33m=\u001b[0m \u001b[1;36m100\u001b[0m\u001b[1;33m\u001b[0m\u001b[0m\n\u001b[1;32m----> 4\u001b[1;33m \u001b[0mprint\u001b[0m\u001b[1;33m(\u001b[0m\u001b[0mb\u001b[0m\u001b[1;33m)\u001b[0m\u001b[1;33m\u001b[0m\u001b[0m\n\u001b[0m\u001b[0;32m      5\u001b[0m \u001b[1;33m\u001b[0m\u001b[0m\n\u001b[0;32m      6\u001b[0m \u001b[1;33m\u001b[0m\u001b[0m\n",
      "\u001b[1;31mNameError\u001b[0m: name 'b' is not defined"
     ]
    }
   ],
   "source": [
    "# 動作するプログラム上で発生した予期せぬ事態のことを例外（Exception）と言う\n",
    "## NameError は定義されていない変数及び関数を使ったときに発生する例外である。\n",
    "a = 100\n",
    "print(b)\n",
    "\n",
    "def add(a, b):\n",
    "    return a + b\n",
    "\n",
    "print(sdd(10, 20))\n",
    "\n",
    "## TypeError は意図したデータ型でない場合や、データ型に存在しない変数や関数を参照したときに,発生する例外である。\n",
    "c = 10\n",
    "d = '20'\n",
    "c += d\n",
    "print(c)\n",
    "\n",
    "## IndexErrorは配列に存在しないインデックス（範囲を超えた数字）を指定した場合に発生する例外である。\n",
    "num_list = [1, 2, 3, 4, 5]\n",
    "print(num_list[10])\n",
    "\n",
    "## KeyErrorは辞書型の変数に存在しないキーを指定した場合に発生する例外である。\n",
    "num_dict = {'a': 1, 'b': 2}\n",
    "print(num_dict['c'])\n"
   ]
  },
  {
   "cell_type": "code",
   "execution_count": 4,
   "metadata": {
    "collapsed": false
   },
   "outputs": [
    {
     "name": "stdout",
     "output_type": "stream",
     "text": [
      "add_num is 20\n",
      "Error!\n"
     ]
    }
   ],
   "source": [
    "# 例外処理とは、実行しているプログラムが特定の箇所でエラーを出した場合、そこでの処理を中断し、別の箇所に記述された処理を行うこと。\n",
    "def add_10(num):\n",
    "    try:   #例外処理を行いたい箇所はtryブロック構文の中に記述する。\n",
    "        add_num = num + 10\n",
    "        print('add_num is {}'.format(add_num))\n",
    "        return add_num\n",
    "    except:　#例外を処理する部分をexceptブロック構文の中に記述する。\n",
    "        print('Error!')\n",
    "add_10(10)\n",
    "add_10('二十')"
   ]
  },
  {
   "cell_type": "code",
   "execution_count": 19,
   "metadata": {
    "collapsed": false
   },
   "outputs": [
    {
     "name": "stdout",
     "output_type": "stream",
     "text": [
      "---ZeroDivisionErrorが発生する---\n",
      "割り勘人数に0人が設定されました。引数を確認してください。\n",
      "関数warikan 終了\n",
      "---エラーが発生しない---\n",
      "一人あたり200円です。\n",
      "関数warikan 終了\n",
      "一人あたり333円です。1円の不足が生じています\n",
      "関数warikan 終了\n",
      "計算は数値同士で行ってください！\n",
      "関数warikan 終了\n",
      "print文は実行される\n"
     ]
    }
   ],
   "source": [
    "# このプログラムを実行するとゼロで割り算を行ったことでZeroDivisionErrorが発生し、プログラムが途中で中断されるため、例外処理を行う。\n",
    "def warikan(total, num):\n",
    "    siharai = 0\n",
    "\n",
    "    try:\n",
    "        siharai = total // num\n",
    "    except ZeroDivisionError:\n",
    "        print('割り勘人数に0人が設定されました。引数を確認してください。')\n",
    "    \n",
    "    if siharai > 0:\n",
    "        message = '一人あたり{}円です。'.format(siharai)\n",
    "        if total % num > 0:\n",
    "            message += '{}円の不足が生じています'.format(total % num)\n",
    "        print(message)\n",
    "    print('関数warikan 終了')  # エラーの発生に関わらず実行される\n",
    "print('---ZeroDivisionErrorが発生する---')\n",
    "warikan(1000, 0)\n",
    "print('---エラーが発生しない---')\n",
    "warikan(1000, 5)\n",
    "warikan(1000, 3)\n",
    "\n",
    "\n",
    "# 複数の例外処理\n",
    "def warikan(total, num):\n",
    "    siharai = 0\n",
    "    try:\n",
    "        siharai = total // num\n",
    "    except ZeroDivisionError:\n",
    "        print('割り勘人数に0人が設定されました。引数を確認してください。')\n",
    "    except TypeError:\n",
    "        print('計算は数値同士で行ってください！')\n",
    "    if siharai > 0:\n",
    "        message = '一人あたり{}円です。'.format(siharai)\n",
    "        if total % num > 0:\n",
    "            message += '{}円の不足が生じています'.format(total % num)\n",
    "        print(message)\n",
    "    print('関数warikan 終了')  \n",
    "warikan(1000, [1, 2, 3])\n",
    "print('print文は実行される')"
   ]
  },
  {
   "cell_type": "code",
   "execution_count": 21,
   "metadata": {
    "collapsed": false
   },
   "outputs": [
    {
     "data": {
      "text/plain": [
       "\"\\nif num > 0:  # 割る数がゼロでないことをチェックする\\n    siharai = total // num\\n    amari = total % num\\nelse:\\n    print('割り勘人数に0人が設定されました。引数を確認してください。')\\n\""
      ]
     },
     "execution_count": 21,
     "metadata": {},
     "output_type": "execute_result"
    }
   ],
   "source": [
    "# 想定できるエラーは事前に対応しておくのが良い。\n",
    "\"\"\"\n",
    "if num > 0:  # 割る数がゼロでないことをチェックする\n",
    "    siharai = total // num\n",
    "    amari = total % num\n",
    "else:\n",
    "    print('割り勘人数に0人が設定されました。引数を確認してください。')\n",
    "\"\"\""
   ]
  },
  {
   "cell_type": "code",
   "execution_count": 23,
   "metadata": {
    "collapsed": false
   },
   "outputs": [
    {
     "name": "stdout",
     "output_type": "stream",
     "text": [
      "---例外が発生しない場合---\n",
      "割り算を行う関数を終了します\n",
      "---例外が発生する場合---\n",
      "ゼロ除算が発生しました。\n",
      "割り算を行う関数を終了します\n"
     ]
    }
   ],
   "source": [
    "# finally構文\n",
    "def divider(a, b):\n",
    "    \"\"\" 割り算を行う関数 \"\"\"\n",
    "    answer = None\n",
    "    try:\n",
    "        answer = a / b\n",
    "        return '{} ÷ {} = {}'.format(a, b, answer)\n",
    "    except ZeroDivisionError:\n",
    "        print('ゼロ除算が発生しました。')\n",
    "    finally:\n",
    "        print('割り算を行う関数を終了します')\n",
    "\n",
    "\n",
    "print('---例外が発生しない場合---')\n",
    "divider(10, 5)\n",
    "print('---例外が発生する場合---')\n",
    "divider(10, 0)"
   ]
  },
  {
   "cell_type": "code",
   "execution_count": 24,
   "metadata": {
    "collapsed": false
   },
   "outputs": [
    {
     "name": "stdout",
     "output_type": "stream",
     "text": [
      "---ZeroDivisionErrorが発生する---\n",
      "ゼロ除算が発生しました。\n",
      "finally\n",
      "0人で割り勘しないでください\n",
      "---エラーは発生しない---\n",
      "finally\n",
      "一人あたり200円です。\n",
      "finally\n",
      "一人あたり333円です。1円の余りが生じています\n"
     ]
    }
   ],
   "source": [
    "# finally句の動作をつかもう\n",
    "def warikan(total, num):\n",
    "    # try except finallyの処理を書く\n",
    "    try:\n",
    "        siharai = total // num\n",
    "        message = '一人あたり{}円です。'.format(siharai)\n",
    "        if total % num > 0:\n",
    "            return message + '{}円の余りが生じています'.format(total % num)\n",
    "        return message\n",
    "    except ZeroDivisionError:\n",
    "        print('ゼロ除算が発生しました。')\n",
    "        message = '0人で割り勘しないでください'\n",
    "        return message\n",
    "    finally:\n",
    "        print('finally')\n",
    "\n",
    "print('---ZeroDivisionErrorが発生する---')\n",
    "print(warikan(1000, 0))\n",
    "print('---エラーは発生しない---')\n",
    "print(warikan(1000, 5))\n",
    "print(warikan(1000, 3))"
   ]
  },
  {
   "cell_type": "code",
   "execution_count": 29,
   "metadata": {
    "collapsed": false
   },
   "outputs": [
    {
     "name": "stdout",
     "output_type": "stream",
     "text": [
      "('b > a exception', 8, 10)\n"
     ]
    }
   ],
   "source": [
    "# raiseで例外を発生\n",
    "def minus(a, b):\n",
    "    if b > a:\n",
    "        raise ValueError(\"b > a exception\", a, b)\n",
    "    return a - b\n",
    "# except句で例外の種類を指定して情報収集\n",
    "try:\n",
    "    minus(8, 10)\n",
    "except ValueError as e:\n",
    "    print(e.args)"
   ]
  }
 ],
 "metadata": {
  "kernelspec": {
   "display_name": "Python 3",
   "language": "python",
   "name": "python3"
  },
  "language_info": {
   "codemirror_mode": {
    "name": "ipython",
    "version": 3
   },
   "file_extension": ".py",
   "mimetype": "text/x-python",
   "name": "python",
   "nbconvert_exporter": "python",
   "pygments_lexer": "ipython3",
   "version": "3.5.1"
  }
 },
 "nbformat": 4,
 "nbformat_minor": 0
}
