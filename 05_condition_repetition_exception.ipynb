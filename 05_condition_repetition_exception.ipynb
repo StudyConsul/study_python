{
 "cells": [
  {
   "cell_type": "markdown",
   "metadata": {},
   "source": [
    "# 第5回勉強会"
   ]
  },
  {
   "cell_type": "markdown",
   "metadata": {},
   "source": [
    "## 名前空間とスコープ"
   ]
  },
  {
   "cell_type": "markdown",
   "metadata": {},
   "source": [
    "1. 名前空間とは、変数が所属している領域"
   ]
  },
  {
   "cell_type": "code",
   "execution_count": 42,
   "metadata": {
    "collapsed": false
   },
   "outputs": [
    {
     "name": "stdout",
     "output_type": "stream",
     "text": [
      "グローバル変数 fruitbat\n",
      "グローバル変数 fruitbat\n"
     ]
    }
   ],
   "source": [
    "animal = 'fruitbat' #グローバル変数\n",
    "def print_global():\n",
    "    print(\"グローバル変数\", animal)\n",
    "\n",
    "print('グローバル変数', animal) \n",
    "print_global()"
   ]
  },
  {
   "cell_type": "code",
   "execution_count": 43,
   "metadata": {
    "collapsed": false
   },
   "outputs": [
    {
     "name": "stdout",
     "output_type": "stream",
     "text": [
      "グローバル変数 fruitbat\n",
      "ローカル変数 wombat\n"
     ]
    }
   ],
   "source": [
    "def change_local():\n",
    "    animal = 'wombat'  #ローカル変数\n",
    "    print(\"ローカル変数\", animal)\n",
    "print(\"グローバル変数\", animal)\n",
    "change_local()"
   ]
  },
  {
   "cell_type": "markdown",
   "metadata": {},
   "source": [
    "## 反複処理"
   ]
  },
  {
   "cell_type": "markdown",
   "metadata": {},
   "source": [
    "- break:繰り返し処理を終了する"
   ]
  },
  {
   "cell_type": "code",
   "execution_count": 45,
   "metadata": {
    "collapsed": false
   },
   "outputs": [
    {
     "name": "stdout",
     "output_type": "stream",
     "text": [
      "1\n",
      "2\n"
     ]
    }
   ],
   "source": [
    "# for文でbreak\n",
    "array = [1,2,3,4,5]\n",
    "for v in array:\n",
    "    if v == 3:\n",
    "        break\n",
    "    print(v)"
   ]
  },
  {
   "cell_type": "code",
   "execution_count": 46,
   "metadata": {
    "collapsed": false
   },
   "outputs": [
    {
     "name": "stdout",
     "output_type": "stream",
     "text": [
      "1\n",
      "2\n"
     ]
    }
   ],
   "source": [
    "# while文でbreak\n",
    "val = 1\n",
    "while val < 10:\n",
    "    if val == 3:\n",
    "        break\n",
    "    print(val)\n",
    "    val += 1"
   ]
  },
  {
   "cell_type": "markdown",
   "metadata": {},
   "source": [
    "- 今回の繰り返しを終了し、次の繰り返し処理を始める"
   ]
  },
  {
   "cell_type": "code",
   "execution_count": 48,
   "metadata": {
    "collapsed": false
   },
   "outputs": [
    {
     "name": "stdout",
     "output_type": "stream",
     "text": [
      "1\n",
      "2\n",
      "4\n",
      "5\n"
     ]
    }
   ],
   "source": [
    "# for文でcontinue\n",
    "array = [1,2,3,4,5]\n",
    "for v in array:\n",
    "    if v == 3:\n",
    "        continue\n",
    "    print(v)"
   ]
  },
  {
   "cell_type": "code",
   "execution_count": 47,
   "metadata": {
    "collapsed": false
   },
   "outputs": [
    {
     "name": "stdout",
     "output_type": "stream",
     "text": [
      "1\n",
      "2\n",
      "4\n",
      "5\n"
     ]
    }
   ],
   "source": [
    "## while文でcontinue\n",
    "val = 0\n",
    "while val < 5:\n",
    "    val += 1\n",
    "    if val == 3:\n",
    "        continue\n",
    "    print(val)"
   ]
  },
  {
   "cell_type": "markdown",
   "metadata": {},
   "source": [
    "## 内包表記"
   ]
  },
  {
   "cell_type": "code",
   "execution_count": 52,
   "metadata": {
    "collapsed": false
   },
   "outputs": [
    {
     "name": "stdout",
     "output_type": "stream",
     "text": [
      "[0, 1, 4, 9, 16, 25, 36, 49, 64, 81]\n"
     ]
    }
   ],
   "source": [
    "# 今までの方法\n",
    "# for文で0から9の二乗のリストを作る\n",
    "def square():\n",
    "    l = []\n",
    "    for i in range(10):\n",
    "        l.append(i ** 2)\n",
    "    return l\n",
    "\n",
    "print(square())"
   ]
  },
  {
   "cell_type": "code",
   "execution_count": 55,
   "metadata": {
    "collapsed": false
   },
   "outputs": [
    {
     "name": "stdout",
     "output_type": "stream",
     "text": [
      "[0, 1, 4, 9, 16, 25, 36, 49, 64, 81]\n"
     ]
    }
   ],
   "source": [
    "# 内包表記を使った方法\n",
    "# for文で0から9の二乗のリストを作る\n",
    "def square():\n",
    "    return[i ** 2 for i in range(10)]  ## [リストの各要素になる値 for 変数 in ...]\n",
    "print(square())   "
   ]
  },
  {
   "cell_type": "code",
   "execution_count": 56,
   "metadata": {
    "collapsed": false
   },
   "outputs": [
    {
     "data": {
      "text/plain": [
       "{2: 4, 4: 16, 6: 36}"
      ]
     },
     "execution_count": 56,
     "metadata": {},
     "output_type": "execute_result"
    }
   ],
   "source": [
    "# 辞書包括表記\n",
    "{x: x**2 for x in (2, 4, 6)}"
   ]
  },
  {
   "cell_type": "markdown",
   "metadata": {},
   "source": [
    "## 関数"
   ]
  },
  {
   "cell_type": "code",
   "execution_count": 57,
   "metadata": {
    "collapsed": true
   },
   "outputs": [],
   "source": [
    "# 関数は複数行のプログラムをまとめて実行できる構文である"
   ]
  },
  {
   "cell_type": "code",
   "execution_count": null,
   "metadata": {
    "collapsed": true
   },
   "outputs": [],
   "source": [
    "# print() も関数である。カッコの中に値を指定すると、画面に渡した値を文字列として表示する。\n",
    "\n",
    "numbers = [199, 288, 99, 538]\n",
    "max_number = max(numbers)\n",
    "print(max_number)"
   ]
  },
  {
   "cell_type": "code",
   "execution_count": 58,
   "metadata": {
    "collapsed": false
   },
   "outputs": [
    {
     "name": "stdout",
     "output_type": "stream",
     "text": [
      "Hello Someone\n"
     ]
    }
   ],
   "source": [
    "# 関数の定義  \n",
    "def greet(): \n",
    "    print('Hello Someone') #greet関数を定義\n",
    "greet() #関数名（）で呼び出す"
   ]
  },
  {
   "cell_type": "markdown",
   "metadata": {},
   "source": [
    "## 例外処理"
   ]
  },
  {
   "cell_type": "markdown",
   "metadata": {},
   "source": [
    "1. 動作するプログラム上で発生した予期せぬ事態のことを例外（Exception）と言う"
   ]
  },
  {
   "cell_type": "code",
   "execution_count": 61,
   "metadata": {
    "collapsed": false
   },
   "outputs": [
    {
     "ename": "NameError",
     "evalue": "name 'b' is not defined",
     "output_type": "error",
     "traceback": [
      "\u001b[1;31m---------------------------------------------------------------------------\u001b[0m",
      "\u001b[1;31mNameError\u001b[0m                                 Traceback (most recent call last)",
      "\u001b[1;32m<ipython-input-61-ae53e69e789d>\u001b[0m in \u001b[0;36m<module>\u001b[1;34m()\u001b[0m\n\u001b[0;32m      1\u001b[0m \u001b[1;31m## NameError は定義されていない変数及び関数を使ったときに発生する例外である。\u001b[0m\u001b[1;33m\u001b[0m\u001b[1;33m\u001b[0m\u001b[0m\n\u001b[0;32m      2\u001b[0m \u001b[0ma\u001b[0m \u001b[1;33m=\u001b[0m \u001b[1;36m100\u001b[0m\u001b[1;33m\u001b[0m\u001b[0m\n\u001b[1;32m----> 3\u001b[1;33m \u001b[0mprint\u001b[0m\u001b[1;33m(\u001b[0m\u001b[0mb\u001b[0m\u001b[1;33m)\u001b[0m\u001b[1;33m\u001b[0m\u001b[0m\n\u001b[0m\u001b[0;32m      4\u001b[0m \u001b[1;33m\u001b[0m\u001b[0m\n\u001b[0;32m      5\u001b[0m \u001b[1;32mdef\u001b[0m \u001b[0madd\u001b[0m\u001b[1;33m(\u001b[0m\u001b[0ma\u001b[0m\u001b[1;33m,\u001b[0m \u001b[0mb\u001b[0m\u001b[1;33m)\u001b[0m\u001b[1;33m:\u001b[0m\u001b[1;33m\u001b[0m\u001b[0m\n",
      "\u001b[1;31mNameError\u001b[0m: name 'b' is not defined"
     ]
    }
   ],
   "source": [
    "## NameError は定義されていない変数及び関数を使ったときに発生する例外である。\n",
    "a = 100\n",
    "print(b)"
   ]
  },
  {
   "cell_type": "code",
   "execution_count": 116,
   "metadata": {
    "collapsed": false
   },
   "outputs": [
    {
     "ename": "NameError",
     "evalue": "name 'sdd' is not defined",
     "output_type": "error",
     "traceback": [
      "\u001b[1;31m---------------------------------------------------------------------------\u001b[0m",
      "\u001b[1;31mNameError\u001b[0m                                 Traceback (most recent call last)",
      "\u001b[1;32m<ipython-input-116-7e29aa526ba3>\u001b[0m in \u001b[0;36m<module>\u001b[1;34m()\u001b[0m\n\u001b[0;32m      2\u001b[0m     \u001b[1;32mreturn\u001b[0m \u001b[0ma\u001b[0m \u001b[1;33m+\u001b[0m \u001b[0mb\u001b[0m\u001b[1;33m\u001b[0m\u001b[0m\n\u001b[0;32m      3\u001b[0m \u001b[1;33m\u001b[0m\u001b[0m\n\u001b[1;32m----> 4\u001b[1;33m \u001b[0mprint\u001b[0m\u001b[1;33m(\u001b[0m\u001b[0msdd\u001b[0m\u001b[1;33m(\u001b[0m\u001b[1;36m10\u001b[0m\u001b[1;33m,\u001b[0m \u001b[1;36m20\u001b[0m\u001b[1;33m)\u001b[0m\u001b[1;33m)\u001b[0m\u001b[1;33m\u001b[0m\u001b[0m\n\u001b[0m",
      "\u001b[1;31mNameError\u001b[0m: name 'sdd' is not defined"
     ]
    }
   ],
   "source": [
    "def add(a, b):\n",
    "    return a + b\n",
    "\n",
    "print(sdd(10, 20))"
   ]
  },
  {
   "cell_type": "code",
   "execution_count": 62,
   "metadata": {
    "collapsed": false
   },
   "outputs": [
    {
     "ename": "TypeError",
     "evalue": "unsupported operand type(s) for +=: 'int' and 'str'",
     "output_type": "error",
     "traceback": [
      "\u001b[1;31m---------------------------------------------------------------------------\u001b[0m",
      "\u001b[1;31mTypeError\u001b[0m                                 Traceback (most recent call last)",
      "\u001b[1;32m<ipython-input-62-6a2fdfea245a>\u001b[0m in \u001b[0;36m<module>\u001b[1;34m()\u001b[0m\n\u001b[0;32m      2\u001b[0m \u001b[0mc\u001b[0m \u001b[1;33m=\u001b[0m \u001b[1;36m10\u001b[0m\u001b[1;33m\u001b[0m\u001b[0m\n\u001b[0;32m      3\u001b[0m \u001b[0md\u001b[0m \u001b[1;33m=\u001b[0m \u001b[1;34m'20'\u001b[0m\u001b[1;33m\u001b[0m\u001b[0m\n\u001b[1;32m----> 4\u001b[1;33m \u001b[0mc\u001b[0m \u001b[1;33m+=\u001b[0m \u001b[0md\u001b[0m\u001b[1;33m\u001b[0m\u001b[0m\n\u001b[0m\u001b[0;32m      5\u001b[0m \u001b[0mprint\u001b[0m\u001b[1;33m(\u001b[0m\u001b[0mc\u001b[0m\u001b[1;33m)\u001b[0m\u001b[1;33m\u001b[0m\u001b[0m\n",
      "\u001b[1;31mTypeError\u001b[0m: unsupported operand type(s) for +=: 'int' and 'str'"
     ]
    }
   ],
   "source": [
    "## TypeError は意図したデータ型でない場合や、データ型に存在しない変数や関数を参照したときに,発生する例外である。\n",
    "c = 10\n",
    "d = '20'\n",
    "c += d\n",
    "print(c)"
   ]
  },
  {
   "cell_type": "code",
   "execution_count": 63,
   "metadata": {
    "collapsed": false
   },
   "outputs": [
    {
     "ename": "IndexError",
     "evalue": "list index out of range",
     "output_type": "error",
     "traceback": [
      "\u001b[1;31m---------------------------------------------------------------------------\u001b[0m",
      "\u001b[1;31mIndexError\u001b[0m                                Traceback (most recent call last)",
      "\u001b[1;32m<ipython-input-63-96484dfe83ab>\u001b[0m in \u001b[0;36m<module>\u001b[1;34m()\u001b[0m\n\u001b[0;32m      1\u001b[0m \u001b[1;31m## IndexErrorは配列に存在しないインデックス（範囲を超えた数字）を指定した場合に発生する例外である。\u001b[0m\u001b[1;33m\u001b[0m\u001b[1;33m\u001b[0m\u001b[0m\n\u001b[0;32m      2\u001b[0m \u001b[0mnum_list\u001b[0m \u001b[1;33m=\u001b[0m \u001b[1;33m[\u001b[0m\u001b[1;36m1\u001b[0m\u001b[1;33m,\u001b[0m \u001b[1;36m2\u001b[0m\u001b[1;33m,\u001b[0m \u001b[1;36m3\u001b[0m\u001b[1;33m,\u001b[0m \u001b[1;36m4\u001b[0m\u001b[1;33m,\u001b[0m \u001b[1;36m5\u001b[0m\u001b[1;33m]\u001b[0m\u001b[1;33m\u001b[0m\u001b[0m\n\u001b[1;32m----> 3\u001b[1;33m \u001b[0mprint\u001b[0m\u001b[1;33m(\u001b[0m\u001b[0mnum_list\u001b[0m\u001b[1;33m[\u001b[0m\u001b[1;36m10\u001b[0m\u001b[1;33m]\u001b[0m\u001b[1;33m)\u001b[0m\u001b[1;33m\u001b[0m\u001b[0m\n\u001b[0m",
      "\u001b[1;31mIndexError\u001b[0m: list index out of range"
     ]
    }
   ],
   "source": [
    "## IndexErrorは配列に存在しないインデックス（範囲を超えた数字）を指定した場合に発生する例外である。\n",
    "num_list = [1, 2, 3, 4, 5]\n",
    "print(num_list[10])"
   ]
  },
  {
   "cell_type": "code",
   "execution_count": 64,
   "metadata": {
    "collapsed": false
   },
   "outputs": [
    {
     "ename": "KeyError",
     "evalue": "'c'",
     "output_type": "error",
     "traceback": [
      "\u001b[1;31m---------------------------------------------------------------------------\u001b[0m",
      "\u001b[1;31mKeyError\u001b[0m                                  Traceback (most recent call last)",
      "\u001b[1;32m<ipython-input-64-0f651ecac0ee>\u001b[0m in \u001b[0;36m<module>\u001b[1;34m()\u001b[0m\n\u001b[0;32m      1\u001b[0m \u001b[1;31m## KeyErrorは辞書型の変数に存在しないキーを指定した場合に発生する例外である。\u001b[0m\u001b[1;33m\u001b[0m\u001b[1;33m\u001b[0m\u001b[0m\n\u001b[0;32m      2\u001b[0m \u001b[0mnum_dict\u001b[0m \u001b[1;33m=\u001b[0m \u001b[1;33m{\u001b[0m\u001b[1;34m'a'\u001b[0m\u001b[1;33m:\u001b[0m \u001b[1;36m1\u001b[0m\u001b[1;33m,\u001b[0m \u001b[1;34m'b'\u001b[0m\u001b[1;33m:\u001b[0m \u001b[1;36m2\u001b[0m\u001b[1;33m}\u001b[0m\u001b[1;33m\u001b[0m\u001b[0m\n\u001b[1;32m----> 3\u001b[1;33m \u001b[0mprint\u001b[0m\u001b[1;33m(\u001b[0m\u001b[0mnum_dict\u001b[0m\u001b[1;33m[\u001b[0m\u001b[1;34m'c'\u001b[0m\u001b[1;33m]\u001b[0m\u001b[1;33m)\u001b[0m\u001b[1;33m\u001b[0m\u001b[0m\n\u001b[0m",
      "\u001b[1;31mKeyError\u001b[0m: 'c'"
     ]
    }
   ],
   "source": [
    "## KeyErrorは辞書型の変数に存在しないキーを指定した場合に発生する例外である。\n",
    "num_dict = {'a': 1, 'b': 2}\n",
    "print(num_dict['c'])"
   ]
  },
  {
   "cell_type": "code",
   "execution_count": 122,
   "metadata": {
    "collapsed": false
   },
   "outputs": [
    {
     "name": "stdout",
     "output_type": "stream",
     "text": [
      "割り勘人数に0人が設定されました。引数を確認してください。\n"
     ]
    }
   ],
   "source": [
    "# このプログラムを実行するとゼロで割り算を行ったことでZeroDivisionErrorが発生し、プログラムが途中で中断されるため、例外処理を行う。\n",
    "def warikan(total, num):\n",
    "    siharai = 0\n",
    "\n",
    "    try:\n",
    "        siharai = total / num\n",
    "    except ZeroDivisionError:\n",
    "        print('割り勘人数に0人が設定されました。引数を確認してください。')\n",
    "        \n",
    "warikan(1000,0)"
   ]
  },
  {
   "cell_type": "code",
   "execution_count": 123,
   "metadata": {
    "collapsed": false
   },
   "outputs": [
    {
     "name": "stdout",
     "output_type": "stream",
     "text": [
      "計算は数値同士で行ってください！\n",
      "print文は実行される\n"
     ]
    }
   ],
   "source": [
    "def warikan1(total, num):\n",
    "    siharai = 0\n",
    "    try:\n",
    "        siharai = total / num\n",
    "    except ZeroDivisionError:\n",
    "        print('割り勘人数に0人が設定されました。引数を確認してください。')\n",
    "    except TypeError:\n",
    "        print('計算は数値同士で行ってください！')\n",
    "warikan1(1000, [1, 2, 3])\n",
    "print('print文は実行される')"
   ]
  },
  {
   "cell_type": "code",
   "execution_count": 76,
   "metadata": {
    "collapsed": false
   },
   "outputs": [
    {
     "name": "stdout",
     "output_type": "stream",
     "text": [
      "割り勘人数に0人が設定されました。引数を確認してください。\n"
     ]
    }
   ],
   "source": [
    "num = 0\n",
    "if num > 0:  # 割る数がゼロでないことをチェックする\n",
    "    siharai = total / num\n",
    "    amari = total % num\n",
    "else:\n",
    "    print('割り勘人数に0人が設定されました。引数を確認してください。')"
   ]
  },
  {
   "cell_type": "code",
   "execution_count": 79,
   "metadata": {
    "collapsed": false
   },
   "outputs": [
    {
     "name": "stdout",
     "output_type": "stream",
     "text": [
      "---例外が発生しない場合---\n",
      "finally\n",
      "---例外が発生する場合---\n",
      "ゼロ除算が発生しました。\n",
      "finally\n"
     ]
    }
   ],
   "source": [
    "# finally構文\n",
    "def divider(a, b):\n",
    "    \"\"\" 割り算を行う関数 \"\"\"\n",
    "    answer = None\n",
    "    try:\n",
    "        answer = a / b\n",
    "        return '{} ÷ {} = {}'.format(a, b, answer)\n",
    "    except ZeroDivisionError:\n",
    "        print('ゼロ除算が発生しました。')\n",
    "    finally:\n",
    "        print('finally')\n",
    "\n",
    "print('---例外が発生しない場合---')\n",
    "divider(10, 5)\n",
    "print('---例外が発生する場合---')\n",
    "divider(10, 0)"
   ]
  },
  {
   "cell_type": "code",
   "execution_count": 81,
   "metadata": {
    "collapsed": false
   },
   "outputs": [
    {
     "name": "stdout",
     "output_type": "stream",
     "text": [
      "---ZeroDivisionErrorが発生する---\n",
      "ゼロ除算が発生しました。\n",
      "finally\n",
      "0人で割り勘しないでください\n",
      "---エラーは発生しない---\n",
      "finally\n",
      "一人あたり200.0円です。\n"
     ]
    }
   ],
   "source": [
    "# finally句の動作をつかもう\n",
    "def warikan2(total, num):\n",
    "    # try except finallyの処理を書く\n",
    "    try:\n",
    "        siharai = total / num\n",
    "        message = '一人あたり{}円です。'.format(siharai)\n",
    "        if total % num > 0:\n",
    "            return message + '{}円の余りが生じています'.format(total % num)\n",
    "        return message\n",
    "    except ZeroDivisionError:\n",
    "        print('ゼロ除算が発生しました。')\n",
    "        message = '0人で割り勘しないでください'\n",
    "        return message\n",
    "    finally:\n",
    "        print('finally')\n",
    "\n",
    "print('---ZeroDivisionErrorが発生する---')\n",
    "print(warikan2(1000, 0))\n",
    "print('---エラーは発生しない---')\n",
    "print(warikan2(1000, 5))"
   ]
  },
  {
   "cell_type": "code",
   "execution_count": 93,
   "metadata": {
    "collapsed": false
   },
   "outputs": [
    {
     "name": "stdout",
     "output_type": "stream",
     "text": [
      "<function minus at 0x000002448697AF28>\n",
      "('error', 8, 10)\n"
     ]
    }
   ],
   "source": [
    "# raiseで例外を発生\n",
    "def minus(a, b):\n",
    "    if b > a:\n",
    "        raise ValueError(\"error\",a,b)\n",
    "    return a - b\n",
    "\n",
    "print(minus)\n",
    "# except句で例外の種類を指定して情報収集\n",
    "try:\n",
    "    minus(8, 10)\n",
    "except ValueError as e:\n",
    "    print(e.args)"
   ]
  },
  {
   "cell_type": "markdown",
   "metadata": {},
   "source": [
    "## 演習課題1\n"
   ]
  },
  {
   "cell_type": "markdown",
   "metadata": {},
   "source": [
    "1. 変数numに7を代入し、変数startに1を代入する。\n",
    "1. ループでnumとstartを比較します。\n",
    "1. 比較後startをインクリメントする。\n",
    "1. 比較した結果startがnumより小さければ'too low'を表示する。\n",
    "1. 比較した結果startがnumより大きければループを抜ける。"
   ]
  },
  {
   "cell_type": "code",
   "execution_count": 8,
   "metadata": {
    "collapsed": false
   },
   "outputs": [
    {
     "name": "stdout",
     "output_type": "stream",
     "text": [
      "too low1\n",
      "too low2\n",
      "too low3\n",
      "too low4\n",
      "too low5\n",
      "too low6\n",
      "7\n"
     ]
    }
   ],
   "source": [
    "num = 7\n",
    "start = 1\n",
    "for i in range(100):\n",
    "    if start < 7:\n",
    "        print(\"too low\" + str(start))\n",
    "        start += 1\n",
    "    else:\n",
    "        print(start)\n",
    "        break;"
   ]
  },
  {
   "cell_type": "markdown",
   "metadata": {},
   "source": [
    "## 演習課題2"
   ]
  },
  {
   "cell_type": "markdown",
   "metadata": {},
   "source": [
    "1. リスト内包表記を使ってrange(10)の偶数のリストを作成する。"
   ]
  },
  {
   "cell_type": "code",
   "execution_count": 94,
   "metadata": {
    "collapsed": false
   },
   "outputs": [
    {
     "name": "stdout",
     "output_type": "stream",
     "text": [
      "[0, 2, 4, 6, 8]\n"
     ]
    }
   ],
   "source": [
    "even_number_list = []\n",
    "for i in range(10):\n",
    "    if not i % 2:\n",
    "        even_number_list.append(i)\n",
    "print(even_number_list)"
   ]
  },
  {
   "cell_type": "markdown",
   "metadata": {
    "collapsed": true
   },
   "source": [
    "## 演習課題3"
   ]
  },
  {
   "cell_type": "markdown",
   "metadata": {},
   "source": [
    "1. 上記例外をキャッチし、例外の種類を出力する。\n",
    "2. 例外処理後に例外名を出力する"
   ]
  },
  {
   "cell_type": "code",
   "execution_count": 117,
   "metadata": {
    "collapsed": false
   },
   "outputs": [
    {
     "name": "stdout",
     "output_type": "stream",
     "text": [
      "NameError\n"
     ]
    }
   ],
   "source": [
    "try:\n",
    "    a = 100\n",
    "    print(b)\n",
    "except NameError as ne:\n",
    "    print(\"NameError\")"
   ]
  },
  {
   "cell_type": "code",
   "execution_count": 118,
   "metadata": {
    "collapsed": false
   },
   "outputs": [
    {
     "name": "stdout",
     "output_type": "stream",
     "text": [
      "NameError\n"
     ]
    }
   ],
   "source": [
    "def add(a, b):\n",
    "    return a + b\n",
    "try:\n",
    "    print(sdd(10, 20))\n",
    "except NameError as ne:\n",
    "    print(\"NameError\")"
   ]
  },
  {
   "cell_type": "code",
   "execution_count": 119,
   "metadata": {
    "collapsed": false
   },
   "outputs": [
    {
     "name": "stdout",
     "output_type": "stream",
     "text": [
      "TypeError\n"
     ]
    }
   ],
   "source": [
    "c = 10\n",
    "d = '20'\n",
    "try:\n",
    "    c += d\n",
    "except TypeError as te:\n",
    "    print(\"TypeError\")"
   ]
  },
  {
   "cell_type": "code",
   "execution_count": 120,
   "metadata": {
    "collapsed": false
   },
   "outputs": [
    {
     "name": "stdout",
     "output_type": "stream",
     "text": [
      "IndexError\n"
     ]
    }
   ],
   "source": [
    "try:\n",
    "    num_list = [1, 2, 3, 4, 5]\n",
    "    print(num_list[10])\n",
    "except IndexError as ie:\n",
    "    print(\"IndexError\")"
   ]
  },
  {
   "cell_type": "code",
   "execution_count": 121,
   "metadata": {
    "collapsed": false
   },
   "outputs": [
    {
     "name": "stdout",
     "output_type": "stream",
     "text": [
      "KeyError\n"
     ]
    }
   ],
   "source": [
    "try:\n",
    "    num_dict = {'a': 1, 'b': 2}\n",
    "    print(num_dict['c'])\n",
    "except KeyError as ke:\n",
    "    print(\"KeyError\")"
   ]
  },
  {
   "cell_type": "markdown",
   "metadata": {},
   "source": [
    "## 演習課題4"
   ]
  },
  {
   "cell_type": "markdown",
   "metadata": {},
   "source": [
    "1. MyExceptionという例外クラスを作成する。\n",
    "1. MyExceptionの例外を発生させる。"
   ]
  },
  {
   "cell_type": "code",
   "execution_count": 113,
   "metadata": {
    "collapsed": false
   },
   "outputs": [],
   "source": [
    "class MyException(Exception):\n",
    "    def my_ex(self):\n",
    "        print(\"MyException\")"
   ]
  },
  {
   "cell_type": "code",
   "execution_count": 115,
   "metadata": {
    "collapsed": false
   },
   "outputs": [
    {
     "name": "stdout",
     "output_type": "stream",
     "text": [
      "aはbより小さいです。\n",
      "-------------\n",
      "MyException\n"
     ]
    }
   ],
   "source": [
    "def my_func(a, b):\n",
    "    if a < b:\n",
    "        print(\"aはbより小さいです。\")\n",
    "    else:\n",
    "        try:\n",
    "            raise MyException\n",
    "        except MyException as ex:\n",
    "            ex.my_ex()\n",
    "            \n",
    "my_func(2,3)\n",
    "print(\"-------------\")\n",
    "my_func(3,2)"
   ]
  }
 ],
 "metadata": {
  "kernelspec": {
   "display_name": "Python 3",
   "language": "python",
   "name": "python3"
  },
  "language_info": {
   "codemirror_mode": {
    "name": "ipython",
    "version": 3
   },
   "file_extension": ".py",
   "mimetype": "text/x-python",
   "name": "python",
   "nbconvert_exporter": "python",
   "pygments_lexer": "ipython3",
   "version": "3.5.1"
  }
 },
 "nbformat": 4,
 "nbformat_minor": 2
}
