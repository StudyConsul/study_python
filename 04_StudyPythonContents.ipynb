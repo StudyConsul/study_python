{
 "cells": [
  {
   "cell_type": "markdown",
   "metadata": {},
   "source": [
    "# 第4回勉強会"
   ]
  },
  {
   "cell_type": "markdown",
   "metadata": {},
   "source": [
    "## リスト操作"
   ]
  },
  {
   "cell_type": "code",
   "execution_count": 38,
   "metadata": {},
   "outputs": [
    {
     "name": "stdout",
     "output_type": "stream",
     "text": [
      "['Groucho', 'Chico', 'Hargo', 'Zeppo']\n",
      "['Groucho', 'Chico', 'Hargo', 'Zeppo', 'Gummo', 'Karl']\n",
      "['Groucho', 'Chico', 'Hargo', 'Zeppo']\n",
      "['Groucho', 'Chico', 'Hargo', 'Zeppo', 'Gummo', 'Karl']\n",
      "['Groucho', 'Chico', 'Hargo', 'Zeppo']\n",
      "['Groucho', 'Chico', 'Hargo', 'Zeppo', ['Gummo', 'Karl']]\n"
     ]
    }
   ],
   "source": [
    "# リスト extend\n",
    "marxes = ['Groucho', 'Chico', 'Hargo', 'Zeppo']\n",
    "print (marxes)\n",
    "others = ['Gummo', 'Karl']\n",
    "marxes.extend(others)\n",
    "print(marxes)\n",
    "\n",
    "marxes = ['Groucho', 'Chico', 'Hargo', 'Zeppo']\n",
    "print (marxes)\n",
    "others = ['Gummo', 'Karl']\n",
    "marxes+=(others)\n",
    "print(marxes)\n",
    "\n",
    "#appendとの違い\n",
    "marxes = ['Groucho', 'Chico', 'Hargo', 'Zeppo']\n",
    "print (marxes)\n",
    "others = ['Gummo', 'Karl']\n",
    "marxes.append(others)\n",
    "print(marxes)"
   ]
  },
  {
   "cell_type": "code",
   "execution_count": 48,
   "metadata": {},
   "outputs": [
    {
     "name": "stdout",
     "output_type": "stream",
     "text": [
      "['Groucho', 'Hargo', 'Zeppo']\n",
      "['Groucho', 'Hargo', 'Zeppo']\n",
      "Chico\n",
      "['Groucho', 'Hargo', 'Zeppo']\n"
     ]
    }
   ],
   "source": [
    "# リスト remove\n",
    "marxes = ['Groucho', 'Chico', 'Hargo', 'Zeppo']\n",
    "marxes.remove ('Chico')\n",
    "print(marxes)\n",
    "\n",
    "#delとの違い⇒要素がどこにあるか分からなくても削除できる。\n",
    "marxes = ['Groucho', 'Chico', 'Hargo', 'Zeppo']\n",
    "del marxes[1]\n",
    "print(marxes)\n",
    "\n",
    "#リスト pop\n",
    "marxes = ['Groucho', 'Chico', 'Hargo', 'Zeppo']\n",
    "print(marxes.pop(1))\n",
    "\n",
    "print(marxes)\n",
    "#popすると要素が削除される"
   ]
  },
  {
   "cell_type": "code",
   "execution_count": 60,
   "metadata": {},
   "outputs": [
    {
     "name": "stdout",
     "output_type": "stream",
     "text": [
      "1\n",
      "3\n"
     ]
    },
    {
     "data": {
      "text/plain": [
       "'Groucho, Chico, Hargo, Zeppo'"
      ]
     },
     "execution_count": 60,
     "metadata": {},
     "output_type": "execute_result"
    }
   ],
   "source": [
    "#リスト　count\n",
    "\n",
    "marxes = ['Groucho', 'Chico', 'Hargo', 'Zeppo']\n",
    "print(marxes.count('Hargo'))\n",
    "\n",
    "snl_skit = ['cheeseburger', 'cheeseburger','cheeseburger']\n",
    "print(snl_skit.count('cheeseburger'))\n",
    "\n",
    "#リスト　join\n",
    "marxes = ['Groucho', 'Chico', 'Hargo', 'Zeppo']\n",
    "', '.join(marxes)"
   ]
  },
  {
   "cell_type": "markdown",
   "metadata": {},
   "source": [
    "## 辞書"
   ]
  },
  {
   "cell_type": "code",
   "execution_count": 54,
   "metadata": {},
   "outputs": [
    {
     "data": {
      "text/plain": [
       "{'a': 'b', 'c': 'd', 'e': 'f'}"
      ]
     },
     "execution_count": 54,
     "metadata": {},
     "output_type": "execute_result"
    }
   ],
   "source": [
    "#辞書 辞書化dict\n",
    "lol = [('a', 'b'), ('c', 'd'), ('e', 'f')]\n",
    "dict(lol)"
   ]
  },
  {
   "cell_type": "code",
   "execution_count": 59,
   "metadata": {},
   "outputs": [
    {
     "name": "stdout",
     "output_type": "stream",
     "text": [
      "{'a': 'b', 'c': 'd', 'e': 'f'}\n",
      "[]\n",
      "{}\n"
     ]
    }
   ],
   "source": [
    "#辞書 辞書化dict 2要素のタプルのリスト\n",
    "lot = [('a', 'b'), ('c', 'd'), ('e', 'f')]\n",
    "print(dict(lot))\n",
    "\n",
    "#clearの方法\n",
    "lot.clear()\n",
    "print(lot)\n",
    "\n",
    "#clearの方法2\n",
    "lot1 = [('a', 'b'), ('c', 'd'), ('e', 'f')]\n",
    "dict(lot1)\n",
    "lot = {}\n",
    "print(lot)"
   ]
  },
  {
   "cell_type": "markdown",
   "metadata": {},
   "source": [
    "## タプル\n",
    "・タプルとは、編集が不可能な定数リスト。\n",
    "\n",
    "・タプルの利点\n",
    "1. 書き換えられる危険がない\n",
    "1. 辞書のキーとして使える\n"
   ]
  },
  {
   "cell_type": "code",
   "execution_count": 24,
   "metadata": {},
   "outputs": [
    {
     "name": "stdout",
     "output_type": "stream",
     "text": [
      "()\n",
      "('first', 'second', 'third')\n",
      "('first', 'second', 'third', 'fourth', 'fifth', 'sixth')\n"
     ]
    }
   ],
   "source": [
    "# タプルの宣言\n",
    "empty_tuple = ()\n",
    "print(empty_tuple)\n",
    "\n",
    "tuple1 = ('first', 'second', 'third')\n",
    "print(tuple1)\n",
    "\n",
    "# 変更するとエラーになる\n",
    "# one_tuple[0] = \"error\"\n",
    "\n",
    "# タプル同士の結合\n",
    "tuple2 = ('first', 'second', 'third')\n",
    "tuple3 = ('fourth', 'fifth', 'sixth')\n",
    "tuple2 = tuple2 + tuple3\n",
    "print(tuple2)"
   ]
  },
  {
   "cell_type": "markdown",
   "metadata": {},
   "source": [
    "## 集合\n",
    "・集合とは、値が一意になるリスト。"
   ]
  },
  {
   "cell_type": "code",
   "execution_count": 35,
   "metadata": {},
   "outputs": [
    {
     "name": "stdout",
     "output_type": "stream",
     "text": [
      "set()\n",
      "{'t', 'e', 'r', 'l'}\n",
      "{'Dancer', 'Prancer', 'Dasher', 'Mason-Dixon'}\n",
      "{1, 2, 3, 4, 5}\n"
     ]
    }
   ],
   "source": [
    "# 集合の宣言\n",
    "empty_set = set()\n",
    "print(empty_set)\n",
    "\n",
    "# 文字列を集合に変換\n",
    "str_set = set('letter')\n",
    "print(str_set)\n",
    "\n",
    "# リストを集合に変換\n",
    "list_set = set(['Dasher', 'Dancer', 'Prancer', 'Mason-Dixon', 'Dasher'])\n",
    "print(list_set)\n",
    "\n",
    "# タプルを集合に変換\n",
    "tuple_set = set((1, 2, 3, 4, 5, 1, 2))\n",
    "print(tuple_set)\n",
    "\n",
    "# 辞書を集合に変換\n",
    "dic_set = set({1})"
   ]
  },
  {
   "cell_type": "code",
   "execution_count": 66,
   "metadata": {},
   "outputs": [
    {
     "name": "stdout",
     "output_type": "stream",
     "text": [
      "first\n",
      "second\n",
      "-------------------------------\n",
      "first\n",
      "-------------------------------\n",
      "{2}\n",
      "{1, 2, 3}\n"
     ]
    }
   ],
   "source": [
    "# 値の有無テスト\n",
    "dic = {'first': {'vodka', 'vermouth'}, 'second': {'vodka', 'kahlua'}}\n",
    "\n",
    "for name, contents in dic.items():\n",
    "    if 'vodka' in contents:\n",
    "        print(name)\n",
    "        \n",
    "print('-------------------------------')\n",
    "for name, contents in dic.items():\n",
    "    if contents & {'vermouth', 'orange juice'}:\n",
    "        print(name)\n",
    "        \n",
    "print('-------------------------------')\n",
    "a = {1, 2}\n",
    "b = {2, 3}\n",
    "\n",
    "# 積集合\n",
    "print(a & b)\n",
    "\n",
    "# 和集合\n",
    "print(a | b)\n"
   ]
  },
  {
   "cell_type": "code",
   "execution_count": null,
   "metadata": {},
   "outputs": [],
   "source": []
  }
 ],
 "metadata": {
  "kernelspec": {
   "display_name": "Python 3",
   "language": "python",
   "name": "python3"
  },
  "language_info": {
   "codemirror_mode": {
    "name": "ipython",
    "version": 3
   },
   "file_extension": ".py",
   "mimetype": "text/x-python",
   "name": "python",
   "nbconvert_exporter": "python",
   "pygments_lexer": "ipython3",
   "version": "3.6.5"
  }
 },
 "nbformat": 4,
 "nbformat_minor": 2
}
