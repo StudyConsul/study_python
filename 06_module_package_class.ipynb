{
 "cells": [
  {
   "cell_type": "markdown",
   "metadata": {},
   "source": [
    "# 第6回勉強会"
   ]
  },
  {
   "cell_type": "markdown",
   "metadata": {},
   "source": [
    "## モジュール"
   ]
  },
  {
   "cell_type": "markdown",
   "metadata": {},
   "source": [
    "モジュールとは、Pythonコードをまとめたファイル。"
   ]
  },
  {
   "cell_type": "code",
   "execution_count": 4,
   "metadata": {
    "collapsed": false
   },
   "outputs": [
    {
     "name": "stdout",
     "output_type": "stream",
     "text": [
      "snow\n"
     ]
    }
   ],
   "source": [
    "# モジュールのインポート\n",
    "import sys # Python標準モジュール\n",
    "import report # 自作モジュール\n",
    "weather = report.get_current_weather()\n",
    "print(weather)"
   ]
  },
  {
   "cell_type": "code",
   "execution_count": 25,
   "metadata": {
    "collapsed": false
   },
   "outputs": [
    {
     "name": "stdout",
     "output_type": "stream",
     "text": [
      "sleet\n"
     ]
    }
   ],
   "source": [
    "# 別名のモジュールインポート\n",
    "import report as wr\n",
    "weather1 = wr.get_current_weather()\n",
    "print(weather1)"
   ]
  },
  {
   "cell_type": "code",
   "execution_count": 27,
   "metadata": {
    "collapsed": false,
    "scrolled": true
   },
   "outputs": [
    {
     "name": "stdout",
     "output_type": "stream",
     "text": [
      "snow\n"
     ]
    }
   ],
   "source": [
    "# 必要なものだけインポートする\n",
    "from report import get_current_weather\n",
    "weather2 = get_current_weather()\n",
    "print(weather2)"
   ]
  },
  {
   "cell_type": "markdown",
   "metadata": {},
   "source": [
    "## 演習課題"
   ]
  },
  {
   "cell_type": "markdown",
   "metadata": {},
   "source": [
    "1. zoo.pyというファイルを作成。\n",
    "1. zoo.pyに[\"daily\"]という文字を出力するhours()関数を作成する。\n",
    "1. zoo.pyをインポートしhours()関数を呼び出す。"
   ]
  },
  {
   "cell_type": "code",
   "execution_count": 2,
   "metadata": {
    "collapsed": false
   },
   "outputs": [
    {
     "name": "stdout",
     "output_type": "stream",
     "text": [
      "daily\n"
     ]
    }
   ],
   "source": [
    "import zoo\n",
    "zoo.hours()"
   ]
  },
  {
   "cell_type": "markdown",
   "metadata": {},
   "source": [
    "## パッケージ"
   ]
  },
  {
   "cell_type": "markdown",
   "metadata": {},
   "source": [
    "アプリケーションを大規模なものにするために階層構造の組織作成する必要がある。\n",
    "その階層構造をパッケージと呼ぶ。"
   ]
  },
  {
   "cell_type": "markdown",
   "metadata": {
    "collapsed": false
   },
   "source": [
    "## Python標準ライブラリ"
   ]
  },
  {
   "cell_type": "code",
   "execution_count": 31,
   "metadata": {
    "collapsed": false
   },
   "outputs": [
    {
     "name": "stdout",
     "output_type": "stream",
     "text": [
      "Counter({'spam': 3, 'eggs': 1})\n"
     ]
    }
   ],
   "source": [
    "# Counterによる要素数の計算\n",
    "from collections import Counter\n",
    "breakfast = ['spam', 'spam', 'eggs', 'spam']\n",
    "breakfast_counter = Counter(breakfast)\n",
    "print(breakfast_counter)"
   ]
  },
  {
   "cell_type": "code",
   "execution_count": 37,
   "metadata": {
    "collapsed": false
   },
   "outputs": [
    {
     "name": "stdout",
     "output_type": "stream",
     "text": [
      "Moe\n",
      "Curly\n",
      "Larry\n"
     ]
    }
   ],
   "source": [
    "# OrderedDictによるキー順のソート\n",
    "quotes = {'Curly': 'Nyuk Nyuk!', 'Moe': 'A wise guy, huh?', 'Larry': 'Ow!'}\n",
    "for stooge in quotes:\n",
    "    print(stooge)"
   ]
  },
  {
   "cell_type": "code",
   "execution_count": 39,
   "metadata": {
    "collapsed": false
   },
   "outputs": [
    {
     "name": "stdout",
     "output_type": "stream",
     "text": [
      "Curly\n",
      "Moe\n",
      "Larry\n"
     ]
    }
   ],
   "source": [
    "from collections import OrderedDict\n",
    "quotes1 = OrderedDict([('Curly', 'Nyuk Nyuk!'), ('Moe', 'A wise guy, huh?'), ('Larry', 'Ow!')])\n",
    "for stooge in quotes1:\n",
    "    print(stooge)"
   ]
  },
  {
   "cell_type": "markdown",
   "metadata": {},
   "source": [
    "## 演習課題1"
   ]
  },
  {
   "cell_type": "markdown",
   "metadata": {},
   "source": [
    "1. zoo.pyというファイルを作る\n",
    "1. zoo.pyをinfoという名前でインポートする\n",
    "1. その中に'Open daily'という文字列を表示するhours()という関数を定義\n",
    "1. zooモジュールを呼び出しhours()関数を呼び出す"
   ]
  },
  {
   "cell_type": "markdown",
   "metadata": {},
   "source": [
    "## オブジェクト"
   ]
  },
  {
   "cell_type": "markdown",
   "metadata": {
    "collapsed": false
   },
   "source": [
    "オブジェクトとは、いくつかの内部データと，その内部データを操作する方法をひとまとまりにして管理したものをいう。<br>\n",
    "データの利用方法が統一化されるので，再利用可能なプログラムが記述可能になり，大規模なプログラム開発が容易になる"
   ]
  },
  {
   "cell_type": "markdown",
   "metadata": {
    "collapsed": false
   },
   "source": [
    "## クラス "
   ]
  },
  {
   "cell_type": "markdown",
   "metadata": {
    "collapsed": false
   },
   "source": [
    "クラスとは、オブジェクトがどのようなデータとメソッドから作られるのかを定義した、言わば雛形にあたるものをクラスという。"
   ]
  },
  {
   "cell_type": "code",
   "execution_count": null,
   "metadata": {
    "collapsed": true
   },
   "outputs": [],
   "source": [
    "# クラスの定義\n",
    "class person():\n",
    "    pass"
   ]
  },
  {
   "cell_type": "code",
   "execution_count": 57,
   "metadata": {
    "collapsed": true
   },
   "outputs": [],
   "source": [
    "# オブジェクト\n",
    "someone = person()"
   ]
  },
  {
   "cell_type": "code",
   "execution_count": 33,
   "metadata": {
    "collapsed": false
   },
   "outputs": [
    {
     "name": "stdout",
     "output_type": "stream",
     "text": [
      "walk\n"
     ]
    }
   ],
   "source": [
    "# 継承\n",
    "class Animal():\n",
    "    def walk(self):\n",
    "        print(\"walk\")\n",
    "        \n",
    "class dog(Animal):\n",
    "    pass\n",
    "    \n",
    "pochi = dog()\n",
    "pochi.walk()"
   ]
  },
  {
   "cell_type": "code",
   "execution_count": 14,
   "metadata": {
    "collapsed": false
   },
   "outputs": [
    {
     "name": "stdout",
     "output_type": "stream",
     "text": [
      "10\n",
      "5\n"
     ]
    }
   ],
   "source": [
    "# コンストラクタ\n",
    "class animal():\n",
    "    def __init__(self, tall, speed):\n",
    "        self.tall = tall\n",
    "        self.speed = speed\n",
    "        \n",
    "tama = animal(10, 5)\n",
    "print(tama.tall)\n",
    "print(tama.speed)"
   ]
  },
  {
   "cell_type": "code",
   "execution_count": 15,
   "metadata": {
    "collapsed": false
   },
   "outputs": [
    {
     "name": "stdout",
     "output_type": "stream",
     "text": [
      "dog_walk\n"
     ]
    }
   ],
   "source": [
    "# オーバーライド\n",
    "# 継承\n",
    "class Animal():\n",
    "    def walk(self):\n",
    "        print(\"walk\")\n",
    "        \n",
    "class Dog(animal):\n",
    "    def walk(self):\n",
    "        print(\"dog_walk\")\n",
    "    \n",
    "pochi = Dog()\n",
    "pochi.walk()"
   ]
  },
  {
   "cell_type": "code",
   "execution_count": 21,
   "metadata": {
    "collapsed": false
   },
   "outputs": [
    {
     "name": "stdout",
     "output_type": "stream",
     "text": [
      "Bob\n",
      "bob@gmail.com\n"
     ]
    }
   ],
   "source": [
    "# superによる支援依頼\n",
    "class Person():\n",
    "    def __init__(self, name):\n",
    "        self.name = name\n",
    "        \n",
    "class EmailPerson(Person):\n",
    "    def __init__(self, name, email):\n",
    "        super().__init__(name)\n",
    "        self.email = email\n",
    "        \n",
    "bob = EmailPerson('Bob', 'bob@gmail.com')\n",
    "print(bob.name)\n",
    "print(bob.email)"
   ]
  },
  {
   "cell_type": "code",
   "execution_count": null,
   "metadata": {
    "collapsed": true
   },
   "outputs": [],
   "source": [
    "getter・setterのメリットは、他のクラスから変数にアクセスすることをできなくし、\n",
    "予期せぬデータの変更をさせない目的で使用する。"
   ]
  },
  {
   "cell_type": "code",
   "execution_count": 25,
   "metadata": {
    "collapsed": false
   },
   "outputs": [
    {
     "name": "stdout",
     "output_type": "stream",
     "text": [
      "Howard\n",
      "Daffy\n"
     ]
    }
   ],
   "source": [
    "# 属性値の取得・設定\n",
    "class Duck():\n",
    "    def __init__(self, input_name):\n",
    "        self.hidden_name = input_name\n",
    "    def get_name(self):\n",
    "        return self.hidden_name\n",
    "    def set_name(self, name):\n",
    "        self.hidden_name = name\n",
    "    name = property(get_name, set_name)\n",
    "    \n",
    "fowl = Duck(\"Howard\")\n",
    "print(fowl.get_name())\n",
    "fowl.set_name(\"Daffy\")\n",
    "print(fowl.name)"
   ]
  },
  {
   "cell_type": "code",
   "execution_count": 32,
   "metadata": {
    "collapsed": false
   },
   "outputs": [
    {
     "data": {
      "text/plain": [
       "'public'"
      ]
     },
     "execution_count": 32,
     "metadata": {},
     "output_type": "execute_result"
    }
   ],
   "source": [
    "# 非公開属性\n",
    "class Duck1():\n",
    "    def __init__(self, input_name, print_name):\n",
    "        self.__name = input_name\n",
    "        self.print_name = print_name\n",
    "        \n",
    "fowl = Duck1(\"secret\", \"public\")\n",
    "fowl.print_name\n",
    "# fowl.__name"
   ]
  },
  {
   "cell_type": "code",
   "execution_count": 53,
   "metadata": {
    "collapsed": false
   },
   "outputs": [
    {
     "name": "stdout",
     "output_type": "stream",
     "text": [
      "ビルの説明:wide orange-高さ:long\n"
     ]
    }
   ],
   "source": [
    "# コンポジション\n",
    "# 集合と部品のような構成をコンポジションという\n",
    "\n",
    "class Bill():\n",
    "    def __init__(self, description):\n",
    "        self.description = description\n",
    "        \n",
    "class Tail():\n",
    "    def __init__(self, length):\n",
    "        self.length = length\n",
    "        \n",
    "class Duck2():\n",
    "    def __init__(self, bill, tail):\n",
    "        self.bill = bill\n",
    "        self.tail = tail\n",
    "    def about(self):\n",
    "        print(\"ビルの説明:{}-高さ:{}\".format(self.bill.description, self.tail.length))\n",
    "        \n",
    "tail = Tail(\"long\")\n",
    "bill = Bill(\"wide orange\")\n",
    "duck = Duck2(bill, tail)\n",
    "duck.about()"
   ]
  },
  {
   "cell_type": "markdown",
   "metadata": {},
   "source": [
    "コンポジション<br>\n",
    "https://qiita.com/turanukimaru/items/0b1396393908b7e22618<br>\n",
    "クラス<br>\n",
    "http://www.itsenka.com/contents/development/uml/class.html<br>"
   ]
  },
  {
   "cell_type": "markdown",
   "metadata": {},
   "source": [
    "## 演習課題1\n"
   ]
  },
  {
   "cell_type": "markdown",
   "metadata": {},
   "source": [
    "1. クラスの作成\n",
    "1. 皆で何をクラスにしたか意見を聞きクラス図にする。"
   ]
  },
  {
   "cell_type": "code",
   "execution_count": null,
   "metadata": {
    "collapsed": true
   },
   "outputs": [],
   "source": []
  }
 ],
 "metadata": {
  "kernelspec": {
   "display_name": "Python 3",
   "language": "python",
   "name": "python3"
  },
  "language_info": {
   "codemirror_mode": {
    "name": "ipython",
    "version": 3
   },
   "file_extension": ".py",
   "mimetype": "text/x-python",
   "name": "python",
   "nbconvert_exporter": "python",
   "pygments_lexer": "ipython3",
   "version": "3.5.1"
  }
 },
 "nbformat": 4,
 "nbformat_minor": 2
}
