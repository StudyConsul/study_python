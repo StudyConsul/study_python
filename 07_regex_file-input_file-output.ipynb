{
 "cells": [
  {
   "cell_type": "markdown",
   "metadata": {},
   "source": [
    "# 第7回勉強会"
   ]
  },
  {
   "cell_type": "code",
   "execution_count": 2,
   "metadata": {
    "collapsed": true
   },
   "outputs": [],
   "source": [
    "import re"
   ]
  },
  {
   "cell_type": "code",
   "execution_count": 4,
   "metadata": {
    "collapsed": false
   },
   "outputs": [
    {
     "name": "stdout",
     "output_type": "stream",
     "text": [
      "['You', 'g Fra', 'ke', 'stei', '']\n"
     ]
    }
   ],
   "source": [
    "# split()関数\n",
    "source = 'Young Frankenstein'\n",
    "sp = re.split('n', source)\n",
    "print(sp)"
   ]
  },
  {
   "cell_type": "code",
   "execution_count": 5,
   "metadata": {
    "collapsed": false
   },
   "outputs": [
    {
     "name": "stdout",
     "output_type": "stream",
     "text": [
      "You?g Fra?ke?stei?\n"
     ]
    }
   ],
   "source": [
    "# sub()によるマッチした部分の置換\n",
    "su = re.sub('n', '?', source)\n",
    "print(su)"
   ]
  },
  {
   "cell_type": "markdown",
   "metadata": {},
   "source": [
    "## パターンの特殊文字\n"
   ]
  },
  {
   "cell_type": "code",
   "execution_count": 20,
   "metadata": {
    "collapsed": false
   },
   "outputs": [
    {
     "name": "stdout",
     "output_type": "stream",
     "text": [
      "12aBｃ\\t Ｄ３４５\n",
      "12aBｃ\t Ｄ３４５\n",
      "['\\t']\n"
     ]
    }
   ],
   "source": [
    "# \\dの使用方法 [0-1]\n",
    "import re\n",
    "d_str = r'12aBｃ\\t Ｄ３４５'\n",
    "print(d_str)\n",
    "d_str1 = '12aBｃ\\t Ｄ３４５'\n",
    "print(d_str1)\n",
    "\n",
    "d = re.findall('\\t', d_str1)\n",
    "print(d)"
   ]
  },
  {
   "cell_type": "code",
   "execution_count": 36,
   "metadata": {
    "collapsed": false
   },
   "outputs": [
    {
     "name": "stdout",
     "output_type": "stream",
     "text": [
      "[' ', ' ', ' ', '\\u3000', '\\u3000', '\\u3000']\n"
     ]
    }
   ],
   "source": [
    "# \\s\n",
    "s_str = 'a B ｃ Ｄ　あ　い　う'\n",
    "s = re.findall(r'\\s', s_str)\n",
    "print(s)"
   ]
  },
  {
   "cell_type": "code",
   "execution_count": 22,
   "metadata": {
    "collapsed": false
   },
   "outputs": [
    {
     "name": "stdout",
     "output_type": "stream",
     "text": [
      "000-0000\n"
     ]
    }
   ],
   "source": [
    "# 郵便番号　正規表現 正常\n",
    "num = '000-0000'\n",
    "\n",
    "regex = '[0-9]{3}-[0-9]{4}'\n",
    "n = re.match(regex, num)\n",
    "print(n.group())"
   ]
  },
  {
   "cell_type": "code",
   "execution_count": 39,
   "metadata": {
    "collapsed": false
   },
   "outputs": [
    {
     "name": "stdout",
     "output_type": "stream",
     "text": [
      "None\n",
      "None\n"
     ]
    }
   ],
   "source": [
    "# 郵便番号　正規表現 エラー\n",
    "num_err = '00-00000'\n",
    "num_err1 = 'あいう-えおかき'\n",
    "\n",
    "regex = '[0-9]{3}-[0-9]{4}'\n",
    "ne = re.match(regex, num_err)\n",
    "print(ne)\n",
    "\n",
    "ne1 = re.match(regex, num_err1)\n",
    "print(ne1)"
   ]
  },
  {
   "cell_type": "markdown",
   "metadata": {},
   "source": [
    "## 課題1\n",
    "1. 電話番号の正規表現を記載してください\n",
    "1. 03-0000-0000と比較してください"
   ]
  },
  {
   "cell_type": "code",
   "execution_count": 29,
   "metadata": {
    "collapsed": false
   },
   "outputs": [
    {
     "name": "stdout",
     "output_type": "stream",
     "text": [
      "03-0000-0000\n"
     ]
    }
   ],
   "source": [
    "phone_number = '03-0000-0000'\n",
    "regex1 = '[0-9]{2}-[0-9]{4}-[0-9]{4}'\n",
    "pn = re.match(regex1, phone_number)\n",
    "print(pn.group())"
   ]
  },
  {
   "cell_type": "markdown",
   "metadata": {},
   "source": [
    "## 課題2\n",
    "1. 下記内容のスペースを改行に変換してください"
   ]
  },
  {
   "cell_type": "code",
   "execution_count": 42,
   "metadata": {
    "collapsed": false
   },
   "outputs": [
    {
     "name": "stdout",
     "output_type": "stream",
     "text": [
      "apple\n",
      "orange\n",
      "banana\n",
      "grape\n",
      "cherry\n"
     ]
    }
   ],
   "source": [
    "str_task = \"apple orange banana grape cherry\"\n",
    "cnl = re.sub(r'\\s', r'\\n', str_task)\n",
    "print(cnl)"
   ]
  },
  {
   "cell_type": "markdown",
   "metadata": {},
   "source": [
    "## ファイルの入出力"
   ]
  },
  {
   "cell_type": "markdown",
   "metadata": {},
   "source": [
    "- ファイルを開くための引数\n",
    "-  open('ファイル名', 'mode')\n",
    "- modeの種類　\n",
    "    - r 読み込み\n",
    "    - w 書き込み\n",
    "    - t テキスト\n",
    "    - b バイナリ"
   ]
  },
  {
   "cell_type": "code",
   "execution_count": 31,
   "metadata": {
    "collapsed": false
   },
   "outputs": [
    {
     "name": "stdout",
     "output_type": "stream",
     "text": [
      "sample.txt\n",
      "ファイル入出力処理の説明用テキストです。\n",
      "内容に意味はありません。\n"
     ]
    }
   ],
   "source": [
    "# ファイル読み込み\n",
    "file = open('read_sample.txt', 'rt')\n",
    "fr = file.read()\n",
    "print(fr)\n",
    "file.close()"
   ]
  },
  {
   "cell_type": "code",
   "execution_count": 34,
   "metadata": {
    "collapsed": false
   },
   "outputs": [],
   "source": [
    "# ファイル書き込み\n",
    "file1 = open('write_sample.txt', 'wt')\n",
    "file1.write(\"read_sample\")\n",
    "print(\"追加テキスト\", file=file1)\n",
    "file1.close()"
   ]
  },
  {
   "cell_type": "code",
   "execution_count": 35,
   "metadata": {
    "collapsed": false
   },
   "outputs": [
    {
     "name": "stdout",
     "output_type": "stream",
     "text": [
      "sample.txt\n",
      "\n",
      "ファイル入出力処理の説明用テキストです。\n",
      "\n",
      "内容に意味はありません。\n"
     ]
    }
   ],
   "source": [
    "# 1行ずつ読み込む\n",
    "file2 = open('read_sample.txt', 'rt')\n",
    "lines = file2.readlines()\n",
    "for line in lines:\n",
    "    print(line)"
   ]
  },
  {
   "cell_type": "code",
   "execution_count": 44,
   "metadata": {
    "collapsed": false
   },
   "outputs": [
    {
     "name": "stdout",
     "output_type": "stream",
     "text": [
      "['\\ufefftext', 'HOT', 'NOT', 'test']\n",
      "['text1', '1', '0', '0']\n",
      "['text2', '1', '0', '0']\n",
      "['text3', '1', '0', '0']\n",
      "['text4', '1', '0', '0']\n",
      "['text5', '1', '0', '0']\n",
      "['text6', '0', '1', '0']\n",
      "['text7', '0', '1', '0']\n",
      "['text8', '0', '1', '0']\n",
      "['text9', '0', '1', '0']\n",
      "['text10', '0', '1', '0']\n"
     ]
    }
   ],
   "source": [
    "# csvファイルの読み込み\n",
    "import csv\n",
    "with open('sample1.csv', 'r', encoding='utf-8') as fc:\n",
    "    cr = csv.reader(fc)\n",
    "    for row in cr:\n",
    "        print(row)"
   ]
  },
  {
   "cell_type": "code",
   "execution_count": 77,
   "metadata": {
    "collapsed": false
   },
   "outputs": [
    {
     "data": {
      "text/plain": [
       "'menu'"
      ]
     },
     "execution_count": 77,
     "metadata": {},
     "output_type": "execute_result"
    }
   ],
   "source": [
    "# xmlファイルの読み込み\n",
    "import xml.etree.ElementTree as et\n",
    "tree = et.ElementTree(file='sample.xml')\n",
    "root = tree.getroot()\n",
    "root.tag"
   ]
  },
  {
   "cell_type": "code",
   "execution_count": 79,
   "metadata": {
    "collapsed": false
   },
   "outputs": [
    {
     "name": "stdout",
     "output_type": "stream",
     "text": [
      "tag: breakfast attributes: {'hours': '7-11'}\n",
      "\ttag: item attributes: {'price': '$6.00'}\n",
      "\ttag: item attributes: {'price': '$4.00'}\n",
      "tag: lunch attributes: {'hours': '11-3'}\n",
      "\ttag: item attributes: {'price': '$5.00'}\n",
      "tag: dinner attributes: {'hours': '3-10'}\n",
      "\ttag: item attributes: {'price': '$8.00'}\n"
     ]
    }
   ],
   "source": [
    "for child  in root:\n",
    "    print('tag:', child.tag, 'attributes:', child.attrib)\n",
    "    for grandchild in child:\n",
    "        print('\\ttag:', grandchild.tag, 'attributes:', grandchild.attrib)"
   ]
  },
  {
   "cell_type": "code",
   "execution_count": 86,
   "metadata": {
    "collapsed": false
   },
   "outputs": [
    {
     "name": "stdout",
     "output_type": "stream",
     "text": [
      "{\"breakfast\": {\"hours\": \"7-11\", \"item\": {\"pancakes\": \"$4.00\", \"breakfast burritos\": \"$6.00\"}}, \"dinner\": {\"hours\": \"3-10\", \"item\": {\"spaghetti\": \"$8.00\"}}, \"lunch\": {\"hours\": \"11-3\", \"item\": {\"hamburger\": \"$5.00\"}}}\n"
     ]
    }
   ],
   "source": [
    "# JSONファイルの読み込み\n",
    "import json\n",
    "file = open('sample.json', 'r')\n",
    "menu_json = json.load(file)\n",
    "print(json.dumps(menu_json))\n",
    "file.close()"
   ]
  },
  {
   "cell_type": "code",
   "execution_count": null,
   "metadata": {
    "collapsed": true
   },
   "outputs": [],
   "source": []
  }
 ],
 "metadata": {
  "kernelspec": {
   "display_name": "Python 3",
   "language": "python",
   "name": "python3"
  },
  "language_info": {
   "codemirror_mode": {
    "name": "ipython",
    "version": 3
   },
   "file_extension": ".py",
   "mimetype": "text/x-python",
   "name": "python",
   "nbconvert_exporter": "python",
   "pygments_lexer": "ipython3",
   "version": "3.5.1"
  }
 },
 "nbformat": 4,
 "nbformat_minor": 0
}
